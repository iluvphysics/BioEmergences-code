{
 "cells": [
  {
   "cell_type": "code",
   "execution_count": 2,
   "id": "3aa277f9",
   "metadata": {},
   "outputs": [],
   "source": [
    "from __future__ import print_function, unicode_literals, absolute_import, division\n",
    "import numpy as np\n",
    "import matplotlib.pyplot as plt\n",
    "#%matplotlib inline\n",
    "#config InlineBackend.figure_format = 'retina'\n",
    "\n",
    "from tifffile import imread\n",
    "from csbdeep.utils import Path, download_and_extract_zip_file, plot_some\n",
    "from csbdeep.io import save_tiff_imagej_compatible\n",
    "from csbdeep.models import CARE, Config\n",
    "import os\n",
    "from os.path import exists\n",
    "import shutil\n",
    "\n",
    "from vtk_to_tiff_py import save_imagej_tiff, save_imagej_tiff4d, tableauZCYX, liste_temps\n",
    "\n",
    "\n",
    "def chargement_modele(nom_model: str, base_dir: str, load_poids='best') :\n",
    "    \"\"\" load_poids : str ('best' ou 'last'). réseau que l'on choisit de charger après l'entrainement. \n",
    "        base_dir : répertoire dans lequel le dossier du modèle est stocké \"\"\"\n",
    "\n",
    "    if load_poids != 'best' and load_poids != 'last' and load_poids != 'now' :\n",
    "        raise Exception(\"Poids choisis incorrects. Poids valides : 'last' ou 'best' \")\n",
    "    \n",
    "    model = CARE(None, nom_model, base_dir)\n",
    "    model.load_weights(name='weights_'+load_poids+'.h5')\n",
    "    \n",
    "    return model\n",
    "\n",
    "# base_dir = \"C:/Users/bioAMD/Desktop/Nathan\"\n",
    "# nom_model =  base_dir + \"/modele_divisions\" + str(3)\n",
    "# modele = chargement_modele(nom_model, base_dir, load_poids='last')\n",
    "\n",
    "def evaluation_data(test_data_dir:str, test_labels_dir: str, date:str, t:int, ch) :\n",
    "    \"\"\" charge deux images du jeu de test : une donnée et une étiquette au pas de temps t.\"\"\"\n",
    "    \n",
    "    datafile = test_data_dir + \"/\" + date + \"_t\" + str(t).zfill(3) + + \"_\" + str(ch).zfill +'.tif'\n",
    "    labelfile = test_labels_dir + \"/\" + date + \"_t\" + str(t).zfill(3) + + \"_\" + str(ch).zfill +'.tif'\n",
    "    \n",
    "    x, y = imread(datafile), imread(labelfile)\n",
    "    return x, y\n",
    "\n",
    "def rmse(im1, im2) :\n",
    "    return np.sqrt(np.mean((im1 - im2)**2 ))\n",
    "\n",
    "def erreur_test(nom_modele, test_data_dir, test_labels_dir, date, ch):\n",
    "    \"\"\" donne la rmse et la différence (absolue) entre les images génerées et les données de test\n",
    "    pour tous les pas de temps contenus dans data_dir \"\"\"\n",
    "    \n",
    "    liste_t = liste_temps(date, test_data_dir, ch)\n",
    "    erreurs = np.zeros(len(liste_t))\n",
    "    diff_temps = np.zeros(len(liste_t))\n",
    "    \n",
    "    modele = chargement_modele(nom_modele, base_dir = \"C:/Users/bioAMD/Desktop/Nathan\" )\n",
    "    \n",
    "    for i in range(len(liste_t)) :\n",
    "        \n",
    "        x,y = evaluation_data(test_data_dir, test_labels_dir, date, liste_t[i], ch)\n",
    "        axes = \"ZCYX\"\n",
    "    \n",
    "        # prédictions du modèle\n",
    "        restored = modele.predict(x, axes)\n",
    "        \n",
    "        erreurs[i] = rmse(y, restored)\n",
    "        diff_temps[i] = rmse(y, x)\n",
    "        \n",
    "    return erreurs, diff_temps\n",
    "\n",
    "# conversion des prédictions en TIFF\n",
    "from vtk_to_tiff_py import save_imagej_tiff\n",
    "\n",
    "def save_predictions(dir_path_samples, output_path, model_path, date, scale, tstart, tstop, tstep, ch,\n",
    "                      n_tiles=(1,1,2,2), load='best', diff=False, dir_path_labels=\"\"):\n",
    "    \"\"\" Sauvegarde les prédictions du modèle sous forme de tif \n",
    "        dir_path_samples : \"\"\"\n",
    "    \n",
    "    # chargement du modèle préentraîné\n",
    "    modele = chargement_modele(model_path, base_dir, load_poids=load)\n",
    "    \n",
    "    # si un dossier n'existe pas, on le crée pour sauvegarder les images prédites\n",
    "    newpath = output_path + \"/pred_\" + model_path[len(base_dir)+1:]\n",
    "    if not os.path.exists(newpath):\n",
    "        os.makedirs(newpath, mode = 0o777)\n",
    "    \n",
    "    # on s'assure que les pas de temps sélectionnées sont bien dans le répertoire\n",
    "    l_temps = liste_temps(date, dir_path_samples, ch)\n",
    "    set_temps = set()\n",
    "    for t in l_temps :\n",
    "        set_temps.add(t)\n",
    "            \n",
    "    print('fichier de sauvegarde:', newpath)\n",
    "    for t in range(tstart, tstop, tstep) :\n",
    "        \n",
    "        # si le pas de temps n'est pas présent, on passe à la suite\n",
    "        if t not in set_temps :\n",
    "            print('fichier t =', t, \"absent\")\n",
    "            continue \n",
    "            \n",
    "        if diff :\n",
    "            x,y = evaluation_data(dir_path_samples, dir_path_labels,date, t, ch)\n",
    "        else :\n",
    "            x = imread(dir_path_samples + \"/\" + date + \"_t\" + str(t).zfill(3)\n",
    "                       + \"_ch\" + str(ch).zfill(2) +'.tif')\n",
    "        print(x.shape)    \n",
    "        axes = \"ZCYX\"\n",
    "        \n",
    "        # on enlève le canal avec la moins bonne prédiction (si diff est vrai), sinon on prend un canal au hasard\n",
    "        restored = modele.predict(x, axes, n_tiles=n_tiles)\n",
    "        print(restored.shape)\n",
    "        \n",
    "        if diff :\n",
    "            if np.mean(np.abs(restored[:,0,:,:]-y[:,0,:,:])) < np.mean(np.abs(restored[:,1,:,:]-y[:,1,:,:])):\n",
    "                restored = restored[:,0,:,:]\n",
    "                y = y[:,0,:,:]\n",
    "            else :\n",
    "                restored = restored[:,1,:,:]\n",
    "                y = y[:,1,:,:]\n",
    "        else :\n",
    "            restored = restored[:,0,:,:]\n",
    "        \n",
    "        # sauvegarde \n",
    "        save_file = newpath + \"/\" + date + \"_t\" + str(t).zfill(3) + \"_ch\" + str(ch).zfill(2) +'.tif'\n",
    "        if exists(save_file) :\n",
    "            os.remove(save_file)\n",
    "        save_imagej_tiff(save_file, restored, scale, units=\"um\", com=None )\n",
    "        \n",
    "        if diff :\n",
    "            diff_file = newpath + \"/\" + date + \"_t\" + str(t).zfill(3) + \"_ch\" + str(ch).zfill(2) +'.tif'\n",
    "        \n",
    "            #on supprime si le fichier existe deja\n",
    "            if exists(diff_file) :\n",
    "                os.remove(diff_file)\n",
    "        \n",
    "            save_imagej_tiff(diff_file, np.abs(restored-y), scale, units=\"um\", com=None )\n",
    "        \n",
    "        print(\"fichier t =\",t, \"sauvegardé\")\n",
    "        \n",
    "    return None\n",
    "def move_files(input_dir, output_dir, date, t:int, all_files=False) :\n",
    "    \"\"\" déplace le(s) fichier(s) correspondant au pas de temps t, ou bien tout un répertoire \"\"\"\n",
    "    \n",
    "    files = os.listdir(input_dir)\n",
    "    \n",
    "    if not all_files :\n",
    "        for filename in files :\n",
    "            # on détermine la longueur du str correspondant au pas de tmeps\n",
    "            s = 0\n",
    "            while filename[len(date) + 2 + s] != \"_\" :\n",
    "                s += 1\n",
    "            if str(t).zfill(3) == filename[len(date) + 2: len(date)+2+s] :\n",
    "                shutil.move(input_dir+\"/\"+filename, output_dir+\"/\"+filename)\n",
    "    else :\n",
    "        for filename in files :\n",
    "            shutil.move(input_dir+\"/\"+filename, output_dir+\"/\"+filename)\n",
    "            \n",
    "    return None\n",
    "\n",
    "n_tiles = (1,1,4,8)\n",
    "num_modele = 7\n",
    "base_dir = \"C:/Users/bioAMD/Desktop/Nathan\"\n",
    "nom_model = base_dir + \"/modele_divisions\" + str(num_modele)\n",
    "date = \"070418a\"\n",
    "scale = tuple(np.array([1.37,1.37,1.37]).astype(np.float32))\n",
    "\n",
    "data = base_dir+\"/Tracking/dataDivisions\"\n",
    "#test_data_dir = data+ \"/test/test_samples\" \n",
    "#test_data_dir = \"C:/Users/bioAMD/Desktop/Nathan/Interpolation/dataMix/dataDemistep/demistep_noyaux\"\n",
    "test_data_dir = data+\"/test/test_samples5\"\n",
    "test_labels_dir = data+\"/test/test_labels\"\n",
    "\n",
    "stock_samples_path = \"C:/Users/bioAMD/Desktop/Nathan/Tracking/dataDivisions/test/test_samples\"\n",
    "stock_labels_path = \"C:/Users/bioAMD/Desktop/Nathan/Tracking/dataDivisions/test/test_labels\"\n",
    "\n",
    "output_path = \"C:/Users/bioAMD/Desktop/Nathan/Tracking/saved_predictions/pred_modele_divisions72\""
   ]
  },
  {
   "cell_type": "code",
   "execution_count": 3,
   "id": "c7e5e967",
   "metadata": {
    "scrolled": true
   },
   "outputs": [
    {
     "name": "stdout",
     "output_type": "stream",
     "text": [
      "Loading network weights from 'weights_best.h5'.\n",
      "347\n",
      "fichier de sauvegarde: C:/Users/bioAMD/Desktop/Nathan/Tracking/saved_predictions/pred_modele_divisions72/pred_modele_divisions7\n",
      "fichier t = 0 absent\n",
      "fichier t = 1 absent\n",
      "fichier t = 2 absent\n",
      "fichier t = 3 absent\n",
      "(104, 5, 512, 512)\n"
     ]
    },
    {
     "name": "stderr",
     "output_type": "stream",
     "text": [
      "C:\\Users\\bioAMD\\anaconda3\\envs\\care\\lib\\site-packages\\csbdeep\\models\\base_model.py:256: UserWarning: skipping normalization step after prediction because number of input and output channels differ.\n",
      "  warnings.warn('skipping normalization step after prediction because ' +\n",
      "100%|██████████| 32/32 [00:06<00:00,  4.84it/s]\n"
     ]
    },
    {
     "name": "stdout",
     "output_type": "stream",
     "text": [
      "(104, 1, 512, 512)\n",
      "fichier t = 4 sauvegardé\n",
      "fichier t = 5 absent\n",
      "(104, 5, 512, 512)\n"
     ]
    },
    {
     "name": "stderr",
     "output_type": "stream",
     "text": [
      "100%|██████████| 32/32 [00:06<00:00,  5.10it/s]\n"
     ]
    },
    {
     "name": "stdout",
     "output_type": "stream",
     "text": [
      "(104, 1, 512, 512)\n",
      "fichier t = 6 sauvegardé\n",
      "fichier t = 7 absent\n",
      "(104, 5, 512, 512)\n"
     ]
    },
    {
     "name": "stderr",
     "output_type": "stream",
     "text": [
      "100%|██████████| 32/32 [00:06<00:00,  5.06it/s]\n"
     ]
    },
    {
     "name": "stdout",
     "output_type": "stream",
     "text": [
      "(104, 1, 512, 512)\n",
      "fichier t = 8 sauvegardé\n",
      "fichier t = 9 absent\n",
      "(104, 5, 512, 512)\n"
     ]
    },
    {
     "name": "stderr",
     "output_type": "stream",
     "text": [
      "100%|██████████| 32/32 [00:06<00:00,  5.02it/s]\n"
     ]
    },
    {
     "name": "stdout",
     "output_type": "stream",
     "text": [
      "(104, 1, 512, 512)\n",
      "fichier t = 10 sauvegardé\n",
      "fichier t = 11 absent\n",
      "(104, 5, 512, 512)\n"
     ]
    },
    {
     "name": "stderr",
     "output_type": "stream",
     "text": [
      "100%|██████████| 32/32 [00:06<00:00,  5.05it/s]\n"
     ]
    },
    {
     "name": "stdout",
     "output_type": "stream",
     "text": [
      "(104, 1, 512, 512)\n",
      "fichier t = 12 sauvegardé\n",
      "fichier t = 13 absent\n",
      "(104, 5, 512, 512)\n"
     ]
    },
    {
     "name": "stderr",
     "output_type": "stream",
     "text": [
      "100%|██████████| 32/32 [00:06<00:00,  4.75it/s]\n"
     ]
    },
    {
     "name": "stdout",
     "output_type": "stream",
     "text": [
      "(104, 1, 512, 512)\n",
      "fichier t = 14 sauvegardé\n",
      "fichier t = 15 absent\n",
      "(104, 5, 512, 512)\n"
     ]
    },
    {
     "name": "stderr",
     "output_type": "stream",
     "text": [
      "100%|██████████| 32/32 [00:06<00:00,  5.08it/s]\n"
     ]
    },
    {
     "name": "stdout",
     "output_type": "stream",
     "text": [
      "(104, 1, 512, 512)\n",
      "fichier t = 16 sauvegardé\n",
      "fichier t = 17 absent\n",
      "(104, 5, 512, 512)\n"
     ]
    },
    {
     "name": "stderr",
     "output_type": "stream",
     "text": [
      "100%|██████████| 32/32 [00:06<00:00,  5.07it/s]\n"
     ]
    },
    {
     "name": "stdout",
     "output_type": "stream",
     "text": [
      "(104, 1, 512, 512)\n",
      "fichier t = 18 sauvegardé\n",
      "fichier t = 19 absent\n",
      "(104, 5, 512, 512)\n"
     ]
    },
    {
     "name": "stderr",
     "output_type": "stream",
     "text": [
      "100%|██████████| 32/32 [00:06<00:00,  5.05it/s]\n"
     ]
    },
    {
     "name": "stdout",
     "output_type": "stream",
     "text": [
      "(104, 1, 512, 512)\n",
      "fichier t = 20 sauvegardé\n",
      "fichier t = 21 absent\n",
      "(104, 5, 512, 512)\n"
     ]
    },
    {
     "name": "stderr",
     "output_type": "stream",
     "text": [
      "100%|██████████| 32/32 [00:06<00:00,  4.76it/s]\n"
     ]
    },
    {
     "name": "stdout",
     "output_type": "stream",
     "text": [
      "(104, 1, 512, 512)\n",
      "fichier t = 22 sauvegardé\n",
      "fichier t = 23 absent\n",
      "(104, 5, 512, 512)\n"
     ]
    },
    {
     "name": "stderr",
     "output_type": "stream",
     "text": [
      "100%|██████████| 32/32 [00:06<00:00,  5.08it/s]\n"
     ]
    },
    {
     "name": "stdout",
     "output_type": "stream",
     "text": [
      "(104, 1, 512, 512)\n",
      "fichier t = 24 sauvegardé\n",
      "fichier t = 25 absent\n",
      "(104, 5, 512, 512)\n"
     ]
    },
    {
     "name": "stderr",
     "output_type": "stream",
     "text": [
      "100%|██████████| 32/32 [00:06<00:00,  5.07it/s]\n"
     ]
    },
    {
     "name": "stdout",
     "output_type": "stream",
     "text": [
      "(104, 1, 512, 512)\n",
      "fichier t = 26 sauvegardé\n",
      "fichier t = 27 absent\n",
      "(104, 5, 512, 512)\n"
     ]
    },
    {
     "name": "stderr",
     "output_type": "stream",
     "text": [
      "100%|██████████| 32/32 [00:06<00:00,  5.09it/s]\n"
     ]
    },
    {
     "name": "stdout",
     "output_type": "stream",
     "text": [
      "(104, 1, 512, 512)\n",
      "fichier t = 28 sauvegardé\n",
      "fichier t = 29 absent\n",
      "(104, 5, 512, 512)\n"
     ]
    },
    {
     "name": "stderr",
     "output_type": "stream",
     "text": [
      "100%|██████████| 32/32 [00:06<00:00,  5.10it/s]\n"
     ]
    },
    {
     "name": "stdout",
     "output_type": "stream",
     "text": [
      "(104, 1, 512, 512)\n",
      "fichier t = 30 sauvegardé\n",
      "fichier t = 31 absent\n",
      "(104, 5, 512, 512)\n"
     ]
    },
    {
     "name": "stderr",
     "output_type": "stream",
     "text": [
      "100%|██████████| 32/32 [00:06<00:00,  4.59it/s]\n"
     ]
    },
    {
     "name": "stdout",
     "output_type": "stream",
     "text": [
      "(104, 1, 512, 512)\n",
      "fichier t = 32 sauvegardé\n",
      "fichier t = 33 absent\n",
      "(104, 5, 512, 512)\n"
     ]
    },
    {
     "name": "stderr",
     "output_type": "stream",
     "text": [
      "100%|██████████| 32/32 [00:06<00:00,  4.61it/s]\n"
     ]
    },
    {
     "name": "stdout",
     "output_type": "stream",
     "text": [
      "(104, 1, 512, 512)\n",
      "fichier t = 34 sauvegardé\n",
      "fichier t = 35 absent\n",
      "(104, 5, 512, 512)\n"
     ]
    },
    {
     "name": "stderr",
     "output_type": "stream",
     "text": [
      "100%|██████████| 32/32 [00:06<00:00,  4.80it/s]\n"
     ]
    },
    {
     "name": "stdout",
     "output_type": "stream",
     "text": [
      "(104, 1, 512, 512)\n",
      "fichier t = 36 sauvegardé\n",
      "fichier t = 37 absent\n",
      "(104, 5, 512, 512)\n"
     ]
    },
    {
     "name": "stderr",
     "output_type": "stream",
     "text": [
      "100%|██████████| 32/32 [00:06<00:00,  5.26it/s]\n"
     ]
    },
    {
     "name": "stdout",
     "output_type": "stream",
     "text": [
      "(104, 1, 512, 512)\n",
      "fichier t = 38 sauvegardé\n",
      "fichier t = 39 absent\n",
      "(104, 5, 512, 512)\n"
     ]
    },
    {
     "name": "stderr",
     "output_type": "stream",
     "text": [
      "100%|██████████| 32/32 [00:06<00:00,  5.22it/s]\n"
     ]
    },
    {
     "name": "stdout",
     "output_type": "stream",
     "text": [
      "(104, 1, 512, 512)\n",
      "fichier t = 40 sauvegardé\n",
      "fichier t = 41 absent\n",
      "(104, 5, 512, 512)\n"
     ]
    },
    {
     "name": "stderr",
     "output_type": "stream",
     "text": [
      "100%|██████████| 32/32 [00:06<00:00,  4.97it/s]\n"
     ]
    },
    {
     "name": "stdout",
     "output_type": "stream",
     "text": [
      "(104, 1, 512, 512)\n",
      "fichier t = 42 sauvegardé\n",
      "fichier t = 43 absent\n",
      "(104, 5, 512, 512)\n"
     ]
    },
    {
     "name": "stderr",
     "output_type": "stream",
     "text": [
      "100%|██████████| 32/32 [00:06<00:00,  5.23it/s]\n"
     ]
    },
    {
     "name": "stdout",
     "output_type": "stream",
     "text": [
      "(104, 1, 512, 512)\n",
      "fichier t = 44 sauvegardé\n",
      "fichier t = 45 absent\n",
      "(104, 5, 512, 512)\n"
     ]
    },
    {
     "name": "stderr",
     "output_type": "stream",
     "text": [
      "100%|██████████| 32/32 [00:06<00:00,  5.17it/s]\n"
     ]
    },
    {
     "name": "stdout",
     "output_type": "stream",
     "text": [
      "(104, 1, 512, 512)\n",
      "fichier t = 46 sauvegardé\n",
      "fichier t = 47 absent\n",
      "(104, 5, 512, 512)\n"
     ]
    },
    {
     "name": "stderr",
     "output_type": "stream",
     "text": [
      "100%|██████████| 32/32 [00:06<00:00,  4.78it/s]\n"
     ]
    },
    {
     "name": "stdout",
     "output_type": "stream",
     "text": [
      "(104, 1, 512, 512)\n",
      "fichier t = 48 sauvegardé\n",
      "fichier t = 49 absent\n",
      "(104, 5, 512, 512)\n"
     ]
    },
    {
     "name": "stderr",
     "output_type": "stream",
     "text": [
      "100%|██████████| 32/32 [00:06<00:00,  4.81it/s]\n"
     ]
    },
    {
     "name": "stdout",
     "output_type": "stream",
     "text": [
      "(104, 1, 512, 512)\n",
      "fichier t = 50 sauvegardé\n",
      "fichier t = 51 absent\n",
      "(104, 5, 512, 512)\n"
     ]
    },
    {
     "name": "stderr",
     "output_type": "stream",
     "text": [
      "100%|██████████| 32/32 [00:06<00:00,  4.75it/s]\n"
     ]
    },
    {
     "name": "stdout",
     "output_type": "stream",
     "text": [
      "(104, 1, 512, 512)\n",
      "fichier t = 52 sauvegardé\n",
      "fichier t = 53 absent\n",
      "(104, 5, 512, 512)\n"
     ]
    },
    {
     "name": "stderr",
     "output_type": "stream",
     "text": [
      "100%|██████████| 32/32 [00:06<00:00,  5.07it/s]\n"
     ]
    },
    {
     "name": "stdout",
     "output_type": "stream",
     "text": [
      "(104, 1, 512, 512)\n",
      "fichier t = 54 sauvegardé\n",
      "fichier t = 55 absent\n",
      "(104, 5, 512, 512)\n"
     ]
    },
    {
     "name": "stderr",
     "output_type": "stream",
     "text": [
      "100%|██████████| 32/32 [00:06<00:00,  5.03it/s]\n"
     ]
    },
    {
     "name": "stdout",
     "output_type": "stream",
     "text": [
      "(104, 1, 512, 512)\n",
      "fichier t = 56 sauvegardé\n",
      "fichier t = 57 absent\n",
      "(104, 5, 512, 512)\n"
     ]
    },
    {
     "name": "stderr",
     "output_type": "stream",
     "text": [
      "100%|██████████| 32/32 [00:06<00:00,  5.02it/s]\n"
     ]
    },
    {
     "name": "stdout",
     "output_type": "stream",
     "text": [
      "(104, 1, 512, 512)\n",
      "fichier t = 58 sauvegardé\n",
      "fichier t = 59 absent\n",
      "(104, 5, 512, 512)\n"
     ]
    },
    {
     "name": "stderr",
     "output_type": "stream",
     "text": [
      "100%|██████████| 32/32 [00:06<00:00,  4.70it/s]\n"
     ]
    },
    {
     "name": "stdout",
     "output_type": "stream",
     "text": [
      "(104, 1, 512, 512)\n",
      "fichier t = 60 sauvegardé\n",
      "fichier t = 61 absent\n",
      "(104, 5, 512, 512)\n"
     ]
    },
    {
     "name": "stderr",
     "output_type": "stream",
     "text": [
      "100%|██████████| 32/32 [00:07<00:00,  4.12it/s]\n"
     ]
    },
    {
     "name": "stdout",
     "output_type": "stream",
     "text": [
      "(104, 1, 512, 512)\n",
      "fichier t = 62 sauvegardé\n",
      "fichier t = 63 absent\n",
      "(104, 5, 512, 512)\n"
     ]
    },
    {
     "name": "stderr",
     "output_type": "stream",
     "text": [
      "100%|██████████| 32/32 [00:08<00:00,  3.68it/s]\n"
     ]
    },
    {
     "name": "stdout",
     "output_type": "stream",
     "text": [
      "(104, 1, 512, 512)\n",
      "fichier t = 64 sauvegardé\n",
      "fichier t = 65 absent\n",
      "(104, 5, 512, 512)\n"
     ]
    },
    {
     "name": "stderr",
     "output_type": "stream",
     "text": [
      "100%|██████████| 32/32 [00:08<00:00,  3.56it/s]\n"
     ]
    },
    {
     "name": "stdout",
     "output_type": "stream",
     "text": [
      "(104, 1, 512, 512)\n",
      "fichier t = 66 sauvegardé\n",
      "fichier t = 67 absent\n",
      "(104, 5, 512, 512)\n"
     ]
    },
    {
     "name": "stderr",
     "output_type": "stream",
     "text": [
      "100%|██████████| 32/32 [00:08<00:00,  3.59it/s]\n"
     ]
    },
    {
     "name": "stdout",
     "output_type": "stream",
     "text": [
      "(104, 1, 512, 512)\n",
      "fichier t = 68 sauvegardé\n",
      "fichier t = 69 absent\n",
      "(104, 5, 512, 512)\n"
     ]
    },
    {
     "name": "stderr",
     "output_type": "stream",
     "text": [
      "100%|██████████| 32/32 [00:09<00:00,  3.41it/s]\n"
     ]
    },
    {
     "name": "stdout",
     "output_type": "stream",
     "text": [
      "(104, 1, 512, 512)\n",
      "fichier t = 70 sauvegardé\n",
      "fichier t = 71 absent\n",
      "(104, 5, 512, 512)\n"
     ]
    },
    {
     "name": "stderr",
     "output_type": "stream",
     "text": [
      "100%|██████████| 32/32 [00:09<00:00,  3.55it/s]\n"
     ]
    },
    {
     "name": "stdout",
     "output_type": "stream",
     "text": [
      "(104, 1, 512, 512)\n",
      "fichier t = 72 sauvegardé\n",
      "fichier t = 73 absent\n",
      "(104, 5, 512, 512)\n"
     ]
    },
    {
     "name": "stderr",
     "output_type": "stream",
     "text": [
      "100%|██████████| 32/32 [00:08<00:00,  3.61it/s]\n"
     ]
    },
    {
     "name": "stdout",
     "output_type": "stream",
     "text": [
      "(104, 1, 512, 512)\n",
      "fichier t = 74 sauvegardé\n",
      "fichier t = 75 absent\n",
      "(104, 5, 512, 512)\n"
     ]
    },
    {
     "name": "stderr",
     "output_type": "stream",
     "text": [
      "100%|██████████| 32/32 [00:08<00:00,  3.60it/s]\n"
     ]
    },
    {
     "name": "stdout",
     "output_type": "stream",
     "text": [
      "(104, 1, 512, 512)\n",
      "fichier t = 76 sauvegardé\n",
      "fichier t = 77 absent\n",
      "(104, 5, 512, 512)\n"
     ]
    },
    {
     "name": "stderr",
     "output_type": "stream",
     "text": [
      "100%|██████████| 32/32 [00:08<00:00,  3.58it/s]\n"
     ]
    },
    {
     "name": "stdout",
     "output_type": "stream",
     "text": [
      "(104, 1, 512, 512)\n",
      "fichier t = 78 sauvegardé\n",
      "fichier t = 79 absent\n",
      "(104, 5, 512, 512)\n"
     ]
    },
    {
     "name": "stderr",
     "output_type": "stream",
     "text": [
      "100%|██████████| 32/32 [00:09<00:00,  3.39it/s]\n"
     ]
    },
    {
     "name": "stdout",
     "output_type": "stream",
     "text": [
      "(104, 1, 512, 512)\n",
      "fichier t = 80 sauvegardé\n",
      "fichier t = 81 absent\n",
      "(104, 5, 512, 512)\n"
     ]
    },
    {
     "name": "stderr",
     "output_type": "stream",
     "text": [
      "100%|██████████| 32/32 [00:09<00:00,  3.53it/s]\n"
     ]
    },
    {
     "name": "stdout",
     "output_type": "stream",
     "text": [
      "(104, 1, 512, 512)\n",
      "fichier t = 82 sauvegardé\n",
      "fichier t = 83 absent\n",
      "(104, 5, 512, 512)\n"
     ]
    },
    {
     "name": "stderr",
     "output_type": "stream",
     "text": [
      "100%|██████████| 32/32 [00:09<00:00,  3.55it/s]\n"
     ]
    },
    {
     "name": "stdout",
     "output_type": "stream",
     "text": [
      "(104, 1, 512, 512)\n",
      "fichier t = 84 sauvegardé\n",
      "fichier t = 85 absent\n",
      "(104, 5, 512, 512)\n"
     ]
    },
    {
     "name": "stderr",
     "output_type": "stream",
     "text": [
      "100%|██████████| 32/32 [00:08<00:00,  3.63it/s]\n"
     ]
    },
    {
     "name": "stdout",
     "output_type": "stream",
     "text": [
      "(104, 1, 512, 512)\n",
      "fichier t = 86 sauvegardé\n",
      "fichier t = 87 absent\n",
      "(104, 5, 512, 512)\n"
     ]
    },
    {
     "name": "stderr",
     "output_type": "stream",
     "text": [
      "100%|██████████| 32/32 [00:08<00:00,  3.60it/s]\n"
     ]
    },
    {
     "name": "stdout",
     "output_type": "stream",
     "text": [
      "(104, 1, 512, 512)\n",
      "fichier t = 88 sauvegardé\n",
      "fichier t = 89 absent\n",
      "(104, 5, 512, 512)\n"
     ]
    },
    {
     "name": "stderr",
     "output_type": "stream",
     "text": [
      "100%|██████████| 32/32 [00:09<00:00,  3.54it/s]\n"
     ]
    },
    {
     "name": "stdout",
     "output_type": "stream",
     "text": [
      "(104, 1, 512, 512)\n",
      "fichier t = 90 sauvegardé\n",
      "fichier t = 91 absent\n",
      "(104, 5, 512, 512)\n"
     ]
    },
    {
     "name": "stderr",
     "output_type": "stream",
     "text": [
      "100%|██████████| 32/32 [00:09<00:00,  3.53it/s]\n"
     ]
    },
    {
     "name": "stdout",
     "output_type": "stream",
     "text": [
      "(104, 1, 512, 512)\n",
      "fichier t = 92 sauvegardé\n",
      "fichier t = 93 absent\n",
      "(104, 5, 512, 512)\n"
     ]
    },
    {
     "name": "stderr",
     "output_type": "stream",
     "text": [
      "100%|██████████| 32/32 [00:08<00:00,  3.63it/s]\n"
     ]
    },
    {
     "name": "stdout",
     "output_type": "stream",
     "text": [
      "(104, 1, 512, 512)\n",
      "fichier t = 94 sauvegardé\n",
      "fichier t = 95 absent\n",
      "(104, 5, 512, 512)\n"
     ]
    },
    {
     "name": "stderr",
     "output_type": "stream",
     "text": [
      "100%|██████████| 32/32 [00:09<00:00,  3.52it/s]\n"
     ]
    },
    {
     "name": "stdout",
     "output_type": "stream",
     "text": [
      "(104, 1, 512, 512)\n",
      "fichier t = 96 sauvegardé\n",
      "fichier t = 97 absent\n",
      "(104, 5, 512, 512)\n"
     ]
    },
    {
     "name": "stderr",
     "output_type": "stream",
     "text": [
      "100%|██████████| 32/32 [00:08<00:00,  3.60it/s]\n"
     ]
    },
    {
     "name": "stdout",
     "output_type": "stream",
     "text": [
      "(104, 1, 512, 512)\n",
      "fichier t = 98 sauvegardé\n",
      "fichier t = 99 absent\n",
      "(104, 5, 512, 512)\n"
     ]
    },
    {
     "name": "stderr",
     "output_type": "stream",
     "text": [
      "100%|██████████| 32/32 [00:09<00:00,  3.39it/s]\n"
     ]
    },
    {
     "name": "stdout",
     "output_type": "stream",
     "text": [
      "(104, 1, 512, 512)\n",
      "fichier t = 100 sauvegardé\n",
      "fichier t = 101 absent\n",
      "(104, 5, 512, 512)\n"
     ]
    },
    {
     "name": "stderr",
     "output_type": "stream",
     "text": [
      "100%|██████████| 32/32 [00:08<00:00,  3.64it/s]\n"
     ]
    },
    {
     "name": "stdout",
     "output_type": "stream",
     "text": [
      "(104, 1, 512, 512)\n",
      "fichier t = 102 sauvegardé\n",
      "fichier t = 103 absent\n",
      "(104, 5, 512, 512)\n"
     ]
    },
    {
     "name": "stderr",
     "output_type": "stream",
     "text": [
      "100%|██████████| 32/32 [00:09<00:00,  3.54it/s]\n"
     ]
    },
    {
     "name": "stdout",
     "output_type": "stream",
     "text": [
      "(104, 1, 512, 512)\n",
      "fichier t = 104 sauvegardé\n",
      "fichier t = 105 absent\n",
      "(104, 5, 512, 512)\n"
     ]
    },
    {
     "name": "stderr",
     "output_type": "stream",
     "text": [
      "100%|██████████| 32/32 [00:08<00:00,  3.60it/s]\n"
     ]
    },
    {
     "name": "stdout",
     "output_type": "stream",
     "text": [
      "(104, 1, 512, 512)\n",
      "fichier t = 106 sauvegardé\n",
      "fichier t = 107 absent\n",
      "(104, 5, 512, 512)\n"
     ]
    },
    {
     "name": "stderr",
     "output_type": "stream",
     "text": [
      "100%|██████████| 32/32 [00:10<00:00,  3.18it/s]\n"
     ]
    },
    {
     "name": "stdout",
     "output_type": "stream",
     "text": [
      "(104, 1, 512, 512)\n",
      "fichier t = 108 sauvegardé\n",
      "fichier t = 109 absent\n",
      "(104, 5, 512, 512)\n"
     ]
    },
    {
     "name": "stderr",
     "output_type": "stream",
     "text": [
      "100%|██████████| 32/32 [00:08<00:00,  3.56it/s]\n"
     ]
    },
    {
     "name": "stdout",
     "output_type": "stream",
     "text": [
      "(104, 1, 512, 512)\n",
      "fichier t = 110 sauvegardé\n",
      "fichier t = 111 absent\n",
      "(104, 5, 512, 512)\n"
     ]
    },
    {
     "name": "stderr",
     "output_type": "stream",
     "text": [
      "100%|██████████| 32/32 [00:06<00:00,  4.89it/s]\n"
     ]
    },
    {
     "name": "stdout",
     "output_type": "stream",
     "text": [
      "(104, 1, 512, 512)\n",
      "fichier t = 112 sauvegardé\n",
      "fichier t = 113 absent\n",
      "(104, 5, 512, 512)\n"
     ]
    },
    {
     "name": "stderr",
     "output_type": "stream",
     "text": [
      "100%|██████████| 32/32 [00:06<00:00,  4.66it/s]\n"
     ]
    },
    {
     "name": "stdout",
     "output_type": "stream",
     "text": [
      "(104, 1, 512, 512)\n",
      "fichier t = 114 sauvegardé\n",
      "fichier t = 115 absent\n",
      "(104, 5, 512, 512)\n"
     ]
    },
    {
     "name": "stderr",
     "output_type": "stream",
     "text": [
      "100%|██████████| 32/32 [00:06<00:00,  4.83it/s]\n"
     ]
    },
    {
     "name": "stdout",
     "output_type": "stream",
     "text": [
      "(104, 1, 512, 512)\n",
      "fichier t = 116 sauvegardé\n",
      "fichier t = 117 absent\n",
      "(104, 5, 512, 512)\n"
     ]
    },
    {
     "name": "stderr",
     "output_type": "stream",
     "text": [
      "100%|██████████| 32/32 [00:07<00:00,  4.53it/s]\n"
     ]
    },
    {
     "name": "stdout",
     "output_type": "stream",
     "text": [
      "(104, 1, 512, 512)\n",
      "fichier t = 118 sauvegardé\n",
      "fichier t = 119 absent\n",
      "(104, 5, 512, 512)\n"
     ]
    },
    {
     "name": "stderr",
     "output_type": "stream",
     "text": [
      "100%|██████████| 32/32 [00:06<00:00,  4.72it/s]\n"
     ]
    },
    {
     "name": "stdout",
     "output_type": "stream",
     "text": [
      "(104, 1, 512, 512)\n",
      "fichier t = 120 sauvegardé\n",
      "fichier t = 121 absent\n",
      "(104, 5, 512, 512)\n"
     ]
    },
    {
     "name": "stderr",
     "output_type": "stream",
     "text": [
      "100%|██████████| 32/32 [00:06<00:00,  4.67it/s]\n"
     ]
    },
    {
     "name": "stdout",
     "output_type": "stream",
     "text": [
      "(104, 1, 512, 512)\n",
      "fichier t = 122 sauvegardé\n",
      "fichier t = 123 absent\n",
      "(104, 5, 512, 512)\n"
     ]
    },
    {
     "name": "stderr",
     "output_type": "stream",
     "text": [
      "100%|██████████| 32/32 [00:06<00:00,  4.58it/s]\n"
     ]
    },
    {
     "name": "stdout",
     "output_type": "stream",
     "text": [
      "(104, 1, 512, 512)\n",
      "fichier t = 124 sauvegardé\n",
      "fichier t = 125 absent\n",
      "(104, 5, 512, 512)\n"
     ]
    },
    {
     "name": "stderr",
     "output_type": "stream",
     "text": [
      "100%|██████████| 32/32 [00:06<00:00,  4.73it/s]\n"
     ]
    },
    {
     "name": "stdout",
     "output_type": "stream",
     "text": [
      "(104, 1, 512, 512)\n",
      "fichier t = 126 sauvegardé\n",
      "fichier t = 127 absent\n",
      "(104, 5, 512, 512)\n"
     ]
    },
    {
     "name": "stderr",
     "output_type": "stream",
     "text": [
      "100%|██████████| 32/32 [00:07<00:00,  4.48it/s]\n"
     ]
    },
    {
     "name": "stdout",
     "output_type": "stream",
     "text": [
      "(104, 1, 512, 512)\n",
      "fichier t = 128 sauvegardé\n",
      "fichier t = 129 absent\n",
      "(104, 5, 512, 512)\n"
     ]
    },
    {
     "name": "stderr",
     "output_type": "stream",
     "text": [
      "100%|██████████| 32/32 [00:06<00:00,  4.73it/s]\n"
     ]
    },
    {
     "name": "stdout",
     "output_type": "stream",
     "text": [
      "(104, 1, 512, 512)\n",
      "fichier t = 130 sauvegardé\n",
      "fichier t = 131 absent\n",
      "(104, 5, 512, 512)\n"
     ]
    },
    {
     "name": "stderr",
     "output_type": "stream",
     "text": [
      "100%|██████████| 32/32 [00:06<00:00,  4.69it/s]\n"
     ]
    },
    {
     "name": "stdout",
     "output_type": "stream",
     "text": [
      "(104, 1, 512, 512)\n",
      "fichier t = 132 sauvegardé\n",
      "fichier t = 133 absent\n",
      "(104, 5, 512, 512)\n"
     ]
    },
    {
     "name": "stderr",
     "output_type": "stream",
     "text": [
      "100%|██████████| 32/32 [00:06<00:00,  4.76it/s]\n"
     ]
    },
    {
     "name": "stdout",
     "output_type": "stream",
     "text": [
      "(104, 1, 512, 512)\n",
      "fichier t = 134 sauvegardé\n",
      "fichier t = 135 absent\n",
      "(104, 5, 512, 512)\n"
     ]
    },
    {
     "name": "stderr",
     "output_type": "stream",
     "text": [
      "100%|██████████| 32/32 [00:06<00:00,  4.78it/s]\n"
     ]
    },
    {
     "name": "stdout",
     "output_type": "stream",
     "text": [
      "(104, 1, 512, 512)\n",
      "fichier t = 136 sauvegardé\n",
      "fichier t = 137 absent\n",
      "(104, 5, 512, 512)\n"
     ]
    },
    {
     "name": "stderr",
     "output_type": "stream",
     "text": [
      "100%|██████████| 32/32 [00:07<00:00,  4.45it/s]\n"
     ]
    },
    {
     "name": "stdout",
     "output_type": "stream",
     "text": [
      "(104, 1, 512, 512)\n",
      "fichier t = 138 sauvegardé\n",
      "fichier t = 139 absent\n",
      "(104, 5, 512, 512)\n"
     ]
    },
    {
     "name": "stderr",
     "output_type": "stream",
     "text": [
      "100%|██████████| 32/32 [00:06<00:00,  4.72it/s]\n"
     ]
    },
    {
     "name": "stdout",
     "output_type": "stream",
     "text": [
      "(104, 1, 512, 512)\n",
      "fichier t = 140 sauvegardé\n",
      "fichier t = 141 absent\n",
      "(104, 5, 512, 512)\n"
     ]
    },
    {
     "name": "stderr",
     "output_type": "stream",
     "text": [
      "100%|██████████| 32/32 [00:06<00:00,  4.77it/s]\n"
     ]
    },
    {
     "name": "stdout",
     "output_type": "stream",
     "text": [
      "(104, 1, 512, 512)\n",
      "fichier t = 142 sauvegardé\n",
      "fichier t = 143 absent\n",
      "(104, 5, 512, 512)\n"
     ]
    },
    {
     "name": "stderr",
     "output_type": "stream",
     "text": [
      "100%|██████████| 32/32 [00:06<00:00,  4.80it/s]\n"
     ]
    },
    {
     "name": "stdout",
     "output_type": "stream",
     "text": [
      "(104, 1, 512, 512)\n",
      "fichier t = 144 sauvegardé\n",
      "fichier t = 145 absent\n",
      "(104, 5, 512, 512)\n"
     ]
    },
    {
     "name": "stderr",
     "output_type": "stream",
     "text": [
      "100%|██████████| 32/32 [00:07<00:00,  4.55it/s]\n"
     ]
    },
    {
     "name": "stdout",
     "output_type": "stream",
     "text": [
      "(104, 1, 512, 512)\n",
      "fichier t = 146 sauvegardé\n",
      "fichier t = 147 absent\n",
      "(104, 5, 512, 512)\n"
     ]
    },
    {
     "name": "stderr",
     "output_type": "stream",
     "text": [
      "100%|██████████| 32/32 [00:06<00:00,  4.76it/s]\n"
     ]
    },
    {
     "name": "stdout",
     "output_type": "stream",
     "text": [
      "(104, 1, 512, 512)\n",
      "fichier t = 148 sauvegardé\n",
      "fichier t = 149 absent\n",
      "(104, 5, 512, 512)\n"
     ]
    },
    {
     "name": "stderr",
     "output_type": "stream",
     "text": [
      "100%|██████████| 32/32 [00:06<00:00,  4.83it/s]\n"
     ]
    },
    {
     "name": "stdout",
     "output_type": "stream",
     "text": [
      "(104, 1, 512, 512)\n",
      "fichier t = 150 sauvegardé\n",
      "fichier t = 151 absent\n",
      "(104, 5, 512, 512)\n"
     ]
    },
    {
     "name": "stderr",
     "output_type": "stream",
     "text": [
      "100%|██████████| 32/32 [00:06<00:00,  4.83it/s]\n"
     ]
    },
    {
     "name": "stdout",
     "output_type": "stream",
     "text": [
      "(104, 1, 512, 512)\n",
      "fichier t = 152 sauvegardé\n",
      "fichier t = 153 absent\n",
      "(104, 5, 512, 512)\n"
     ]
    },
    {
     "name": "stderr",
     "output_type": "stream",
     "text": [
      "100%|██████████| 32/32 [00:06<00:00,  4.88it/s]\n"
     ]
    },
    {
     "name": "stdout",
     "output_type": "stream",
     "text": [
      "(104, 1, 512, 512)\n",
      "fichier t = 154 sauvegardé\n",
      "fichier t = 155 absent\n",
      "(104, 5, 512, 512)\n"
     ]
    },
    {
     "name": "stderr",
     "output_type": "stream",
     "text": [
      "100%|██████████| 32/32 [00:06<00:00,  4.72it/s]\n"
     ]
    },
    {
     "name": "stdout",
     "output_type": "stream",
     "text": [
      "(104, 1, 512, 512)\n",
      "fichier t = 156 sauvegardé\n",
      "fichier t = 157 absent\n",
      "(104, 5, 512, 512)\n"
     ]
    },
    {
     "name": "stderr",
     "output_type": "stream",
     "text": [
      "100%|██████████| 32/32 [00:06<00:00,  4.92it/s]\n"
     ]
    },
    {
     "name": "stdout",
     "output_type": "stream",
     "text": [
      "(104, 1, 512, 512)\n",
      "fichier t = 158 sauvegardé\n",
      "fichier t = 159 absent\n",
      "(104, 5, 512, 512)\n"
     ]
    },
    {
     "name": "stderr",
     "output_type": "stream",
     "text": [
      "100%|██████████| 32/32 [00:06<00:00,  4.79it/s]\n"
     ]
    },
    {
     "name": "stdout",
     "output_type": "stream",
     "text": [
      "(104, 1, 512, 512)\n",
      "fichier t = 160 sauvegardé\n",
      "fichier t = 161 absent\n",
      "(104, 5, 512, 512)\n"
     ]
    },
    {
     "name": "stderr",
     "output_type": "stream",
     "text": [
      "100%|██████████| 32/32 [00:06<00:00,  4.83it/s]\n"
     ]
    },
    {
     "name": "stdout",
     "output_type": "stream",
     "text": [
      "(104, 1, 512, 512)\n",
      "fichier t = 162 sauvegardé\n",
      "fichier t = 163 absent\n",
      "(104, 5, 512, 512)\n"
     ]
    },
    {
     "name": "stderr",
     "output_type": "stream",
     "text": [
      "100%|██████████| 32/32 [00:06<00:00,  4.84it/s]\n"
     ]
    },
    {
     "name": "stdout",
     "output_type": "stream",
     "text": [
      "(104, 1, 512, 512)\n",
      "fichier t = 164 sauvegardé\n",
      "fichier t = 165 absent\n",
      "(104, 5, 512, 512)\n"
     ]
    },
    {
     "name": "stderr",
     "output_type": "stream",
     "text": [
      "100%|██████████| 32/32 [00:06<00:00,  4.65it/s]\n"
     ]
    },
    {
     "name": "stdout",
     "output_type": "stream",
     "text": [
      "(104, 1, 512, 512)\n",
      "fichier t = 166 sauvegardé\n",
      "fichier t = 167 absent\n",
      "(104, 5, 512, 512)\n"
     ]
    },
    {
     "name": "stderr",
     "output_type": "stream",
     "text": [
      "100%|██████████| 32/32 [00:06<00:00,  4.81it/s]\n"
     ]
    },
    {
     "name": "stdout",
     "output_type": "stream",
     "text": [
      "(104, 1, 512, 512)\n",
      "fichier t = 168 sauvegardé\n",
      "fichier t = 169 absent\n",
      "(104, 5, 512, 512)\n"
     ]
    },
    {
     "name": "stderr",
     "output_type": "stream",
     "text": [
      "100%|██████████| 32/32 [00:06<00:00,  4.87it/s]\n"
     ]
    },
    {
     "name": "stdout",
     "output_type": "stream",
     "text": [
      "(104, 1, 512, 512)\n",
      "fichier t = 170 sauvegardé\n",
      "fichier t = 171 absent\n",
      "(104, 5, 512, 512)\n"
     ]
    },
    {
     "name": "stderr",
     "output_type": "stream",
     "text": [
      "100%|██████████| 32/32 [00:06<00:00,  4.81it/s]\n"
     ]
    },
    {
     "name": "stdout",
     "output_type": "stream",
     "text": [
      "(104, 1, 512, 512)\n",
      "fichier t = 172 sauvegardé\n",
      "fichier t = 173 absent\n",
      "(104, 5, 512, 512)\n"
     ]
    },
    {
     "name": "stderr",
     "output_type": "stream",
     "text": [
      "100%|██████████| 32/32 [00:06<00:00,  4.81it/s]\n"
     ]
    },
    {
     "name": "stdout",
     "output_type": "stream",
     "text": [
      "(104, 1, 512, 512)\n",
      "fichier t = 174 sauvegardé\n",
      "fichier t = 175 absent\n",
      "(104, 5, 512, 512)\n"
     ]
    },
    {
     "name": "stderr",
     "output_type": "stream",
     "text": [
      "100%|██████████| 32/32 [00:06<00:00,  4.61it/s]\n"
     ]
    },
    {
     "name": "stdout",
     "output_type": "stream",
     "text": [
      "(104, 1, 512, 512)\n",
      "fichier t = 176 sauvegardé\n",
      "fichier t = 177 absent\n",
      "(104, 5, 512, 512)\n"
     ]
    },
    {
     "name": "stderr",
     "output_type": "stream",
     "text": [
      "100%|██████████| 32/32 [00:06<00:00,  4.83it/s]\n"
     ]
    },
    {
     "name": "stdout",
     "output_type": "stream",
     "text": [
      "(104, 1, 512, 512)\n",
      "fichier t = 178 sauvegardé\n",
      "fichier t = 179 absent\n",
      "(104, 5, 512, 512)\n"
     ]
    },
    {
     "name": "stderr",
     "output_type": "stream",
     "text": [
      "100%|██████████| 32/32 [00:06<00:00,  4.80it/s]\n"
     ]
    },
    {
     "name": "stdout",
     "output_type": "stream",
     "text": [
      "(104, 1, 512, 512)\n",
      "fichier t = 180 sauvegardé\n",
      "fichier t = 181 absent\n",
      "(104, 5, 512, 512)\n"
     ]
    },
    {
     "name": "stderr",
     "output_type": "stream",
     "text": [
      "100%|██████████| 32/32 [00:06<00:00,  4.77it/s]\n"
     ]
    },
    {
     "name": "stdout",
     "output_type": "stream",
     "text": [
      "(104, 1, 512, 512)\n",
      "fichier t = 182 sauvegardé\n",
      "fichier t = 183 absent\n",
      "(104, 5, 512, 512)\n"
     ]
    },
    {
     "name": "stderr",
     "output_type": "stream",
     "text": [
      "100%|██████████| 32/32 [00:08<00:00,  3.64it/s]\n"
     ]
    },
    {
     "name": "stdout",
     "output_type": "stream",
     "text": [
      "(104, 1, 512, 512)\n",
      "fichier t = 184 sauvegardé\n",
      "fichier t = 185 absent\n",
      "(104, 5, 512, 512)\n"
     ]
    },
    {
     "name": "stderr",
     "output_type": "stream",
     "text": [
      "100%|██████████| 32/32 [00:08<00:00,  3.87it/s]\n"
     ]
    },
    {
     "name": "stdout",
     "output_type": "stream",
     "text": [
      "(104, 1, 512, 512)\n",
      "fichier t = 186 sauvegardé\n",
      "fichier t = 187 absent\n",
      "(104, 5, 512, 512)\n"
     ]
    },
    {
     "name": "stderr",
     "output_type": "stream",
     "text": [
      "100%|██████████| 32/32 [00:08<00:00,  3.95it/s]\n"
     ]
    },
    {
     "name": "stdout",
     "output_type": "stream",
     "text": [
      "(104, 1, 512, 512)\n",
      "fichier t = 188 sauvegardé\n",
      "fichier t = 189 absent\n",
      "(104, 5, 512, 512)\n"
     ]
    },
    {
     "name": "stderr",
     "output_type": "stream",
     "text": [
      "100%|██████████| 32/32 [00:08<00:00,  3.99it/s]\n"
     ]
    },
    {
     "name": "stdout",
     "output_type": "stream",
     "text": [
      "(104, 1, 512, 512)\n",
      "fichier t = 190 sauvegardé\n",
      "fichier t = 191 absent\n",
      "(104, 5, 512, 512)\n"
     ]
    },
    {
     "name": "stderr",
     "output_type": "stream",
     "text": [
      "100%|██████████| 32/32 [00:08<00:00,  3.96it/s]\n"
     ]
    },
    {
     "name": "stdout",
     "output_type": "stream",
     "text": [
      "(104, 1, 512, 512)\n",
      "fichier t = 192 sauvegardé\n",
      "fichier t = 193 absent\n",
      "(104, 5, 512, 512)\n"
     ]
    },
    {
     "name": "stderr",
     "output_type": "stream",
     "text": [
      "100%|██████████| 32/32 [00:08<00:00,  3.86it/s]\n"
     ]
    },
    {
     "name": "stdout",
     "output_type": "stream",
     "text": [
      "(104, 1, 512, 512)\n",
      "fichier t = 194 sauvegardé\n",
      "fichier t = 195 absent\n",
      "(104, 5, 512, 512)\n"
     ]
    },
    {
     "name": "stderr",
     "output_type": "stream",
     "text": [
      "100%|██████████| 32/32 [00:07<00:00,  4.07it/s]\n"
     ]
    },
    {
     "name": "stdout",
     "output_type": "stream",
     "text": [
      "(104, 1, 512, 512)\n",
      "fichier t = 196 sauvegardé\n",
      "fichier t = 197 absent\n",
      "(104, 5, 512, 512)\n"
     ]
    },
    {
     "name": "stderr",
     "output_type": "stream",
     "text": [
      "100%|██████████| 32/32 [00:08<00:00,  3.97it/s]\n"
     ]
    },
    {
     "name": "stdout",
     "output_type": "stream",
     "text": [
      "(104, 1, 512, 512)\n",
      "fichier t = 198 sauvegardé\n",
      "fichier t = 199 absent\n",
      "(104, 5, 512, 512)\n"
     ]
    },
    {
     "name": "stderr",
     "output_type": "stream",
     "text": [
      "100%|██████████| 32/32 [00:07<00:00,  4.02it/s]\n"
     ]
    },
    {
     "name": "stdout",
     "output_type": "stream",
     "text": [
      "(104, 1, 512, 512)\n",
      "fichier t = 200 sauvegardé\n",
      "fichier t = 201 absent\n",
      "(104, 5, 512, 512)\n"
     ]
    },
    {
     "name": "stderr",
     "output_type": "stream",
     "text": [
      "100%|██████████| 32/32 [00:08<00:00,  3.98it/s]\n"
     ]
    },
    {
     "name": "stdout",
     "output_type": "stream",
     "text": [
      "(104, 1, 512, 512)\n",
      "fichier t = 202 sauvegardé\n",
      "fichier t = 203 absent\n",
      "(104, 5, 512, 512)\n"
     ]
    },
    {
     "name": "stderr",
     "output_type": "stream",
     "text": [
      "100%|██████████| 32/32 [00:08<00:00,  3.75it/s]\n"
     ]
    },
    {
     "name": "stdout",
     "output_type": "stream",
     "text": [
      "(104, 1, 512, 512)\n",
      "fichier t = 204 sauvegardé\n",
      "fichier t = 205 absent\n",
      "(104, 5, 512, 512)\n"
     ]
    },
    {
     "name": "stderr",
     "output_type": "stream",
     "text": [
      "100%|██████████| 32/32 [00:07<00:00,  4.11it/s]\n"
     ]
    },
    {
     "name": "stdout",
     "output_type": "stream",
     "text": [
      "(104, 1, 512, 512)\n",
      "fichier t = 206 sauvegardé\n",
      "fichier t = 207 absent\n",
      "(104, 5, 512, 512)\n"
     ]
    },
    {
     "name": "stderr",
     "output_type": "stream",
     "text": [
      "100%|██████████| 32/32 [00:08<00:00,  3.91it/s]\n"
     ]
    },
    {
     "name": "stdout",
     "output_type": "stream",
     "text": [
      "(104, 1, 512, 512)\n",
      "fichier t = 208 sauvegardé\n",
      "fichier t = 209 absent\n",
      "(104, 5, 512, 512)\n"
     ]
    },
    {
     "name": "stderr",
     "output_type": "stream",
     "text": [
      "100%|██████████| 32/32 [00:08<00:00,  3.88it/s]\n"
     ]
    },
    {
     "name": "stdout",
     "output_type": "stream",
     "text": [
      "(104, 1, 512, 512)\n",
      "fichier t = 210 sauvegardé\n",
      "fichier t = 211 absent\n",
      "(104, 5, 512, 512)\n"
     ]
    },
    {
     "name": "stderr",
     "output_type": "stream",
     "text": [
      "100%|██████████| 32/32 [00:07<00:00,  4.04it/s]\n"
     ]
    },
    {
     "name": "stdout",
     "output_type": "stream",
     "text": [
      "(104, 1, 512, 512)\n",
      "fichier t = 212 sauvegardé\n",
      "fichier t = 213 absent\n",
      "(104, 5, 512, 512)\n"
     ]
    },
    {
     "name": "stderr",
     "output_type": "stream",
     "text": [
      "100%|██████████| 32/32 [00:08<00:00,  3.79it/s]\n"
     ]
    },
    {
     "name": "stdout",
     "output_type": "stream",
     "text": [
      "(104, 1, 512, 512)\n",
      "fichier t = 214 sauvegardé\n",
      "fichier t = 215 absent\n",
      "(104, 5, 512, 512)\n"
     ]
    },
    {
     "name": "stderr",
     "output_type": "stream",
     "text": [
      "100%|██████████| 32/32 [00:07<00:00,  4.01it/s]\n"
     ]
    },
    {
     "name": "stdout",
     "output_type": "stream",
     "text": [
      "(104, 1, 512, 512)\n",
      "fichier t = 216 sauvegardé\n",
      "fichier t = 217 absent\n",
      "(104, 5, 512, 512)\n"
     ]
    },
    {
     "name": "stderr",
     "output_type": "stream",
     "text": [
      "100%|██████████| 32/32 [00:07<00:00,  4.11it/s]\n"
     ]
    },
    {
     "name": "stdout",
     "output_type": "stream",
     "text": [
      "(104, 1, 512, 512)\n",
      "fichier t = 218 sauvegardé\n",
      "fichier t = 219 absent\n",
      "(104, 5, 512, 512)\n"
     ]
    },
    {
     "name": "stderr",
     "output_type": "stream",
     "text": [
      "100%|██████████| 32/32 [00:07<00:00,  4.04it/s]\n"
     ]
    },
    {
     "name": "stdout",
     "output_type": "stream",
     "text": [
      "(104, 1, 512, 512)\n",
      "fichier t = 220 sauvegardé\n",
      "fichier t = 221 absent\n",
      "(104, 5, 512, 512)\n"
     ]
    },
    {
     "name": "stderr",
     "output_type": "stream",
     "text": [
      "100%|██████████| 32/32 [00:08<00:00,  4.00it/s]\n"
     ]
    },
    {
     "name": "stdout",
     "output_type": "stream",
     "text": [
      "(104, 1, 512, 512)\n",
      "fichier t = 222 sauvegardé\n",
      "fichier t = 223 absent\n",
      "(104, 5, 512, 512)\n"
     ]
    },
    {
     "name": "stderr",
     "output_type": "stream",
     "text": [
      "100%|██████████| 32/32 [00:08<00:00,  3.89it/s]\n"
     ]
    },
    {
     "name": "stdout",
     "output_type": "stream",
     "text": [
      "(104, 1, 512, 512)\n",
      "fichier t = 224 sauvegardé\n",
      "fichier t = 225 absent\n",
      "(104, 5, 512, 512)\n"
     ]
    },
    {
     "name": "stderr",
     "output_type": "stream",
     "text": [
      "100%|██████████| 32/32 [00:07<00:00,  4.07it/s]\n"
     ]
    },
    {
     "name": "stdout",
     "output_type": "stream",
     "text": [
      "(104, 1, 512, 512)\n",
      "fichier t = 226 sauvegardé\n",
      "fichier t = 227 absent\n",
      "(104, 5, 512, 512)\n"
     ]
    },
    {
     "name": "stderr",
     "output_type": "stream",
     "text": [
      "100%|██████████| 32/32 [00:07<00:00,  4.05it/s]\n"
     ]
    },
    {
     "name": "stdout",
     "output_type": "stream",
     "text": [
      "(104, 1, 512, 512)\n",
      "fichier t = 228 sauvegardé\n",
      "fichier t = 229 absent\n",
      "(104, 5, 512, 512)\n"
     ]
    },
    {
     "name": "stderr",
     "output_type": "stream",
     "text": [
      "100%|██████████| 32/32 [00:07<00:00,  4.06it/s]\n"
     ]
    },
    {
     "name": "stdout",
     "output_type": "stream",
     "text": [
      "(104, 1, 512, 512)\n",
      "fichier t = 230 sauvegardé\n",
      "fichier t = 231 absent\n",
      "(104, 5, 512, 512)\n"
     ]
    },
    {
     "name": "stderr",
     "output_type": "stream",
     "text": [
      "100%|██████████| 32/32 [00:08<00:00,  3.87it/s]\n"
     ]
    },
    {
     "name": "stdout",
     "output_type": "stream",
     "text": [
      "(104, 1, 512, 512)\n",
      "fichier t = 232 sauvegardé\n",
      "fichier t = 233 absent\n",
      "(104, 5, 512, 512)\n"
     ]
    },
    {
     "name": "stderr",
     "output_type": "stream",
     "text": [
      "100%|██████████| 32/32 [00:07<00:00,  4.06it/s]\n"
     ]
    },
    {
     "name": "stdout",
     "output_type": "stream",
     "text": [
      "(104, 1, 512, 512)\n",
      "fichier t = 234 sauvegardé\n",
      "fichier t = 235 absent\n",
      "(104, 5, 512, 512)\n"
     ]
    },
    {
     "name": "stderr",
     "output_type": "stream",
     "text": [
      "100%|██████████| 32/32 [00:08<00:00,  3.94it/s]\n"
     ]
    },
    {
     "name": "stdout",
     "output_type": "stream",
     "text": [
      "(104, 1, 512, 512)\n",
      "fichier t = 236 sauvegardé\n",
      "fichier t = 237 absent\n",
      "(104, 5, 512, 512)\n"
     ]
    },
    {
     "name": "stderr",
     "output_type": "stream",
     "text": [
      "100%|██████████| 32/32 [00:08<00:00,  3.92it/s]\n"
     ]
    },
    {
     "name": "stdout",
     "output_type": "stream",
     "text": [
      "(104, 1, 512, 512)\n",
      "fichier t = 238 sauvegardé\n",
      "fichier t = 239 absent\n",
      "(104, 5, 512, 512)\n"
     ]
    },
    {
     "name": "stderr",
     "output_type": "stream",
     "text": [
      "100%|██████████| 32/32 [00:08<00:00,  3.99it/s]\n"
     ]
    },
    {
     "name": "stdout",
     "output_type": "stream",
     "text": [
      "(104, 1, 512, 512)\n",
      "fichier t = 240 sauvegardé\n",
      "fichier t = 241 absent\n",
      "(104, 5, 512, 512)\n"
     ]
    },
    {
     "name": "stderr",
     "output_type": "stream",
     "text": [
      "100%|██████████| 32/32 [00:08<00:00,  3.95it/s]\n"
     ]
    },
    {
     "name": "stdout",
     "output_type": "stream",
     "text": [
      "(104, 1, 512, 512)\n",
      "fichier t = 242 sauvegardé\n",
      "fichier t = 243 absent\n",
      "(104, 5, 512, 512)\n"
     ]
    },
    {
     "name": "stderr",
     "output_type": "stream",
     "text": [
      "100%|██████████| 32/32 [00:07<00:00,  4.07it/s]\n"
     ]
    },
    {
     "name": "stdout",
     "output_type": "stream",
     "text": [
      "(104, 1, 512, 512)\n",
      "fichier t = 244 sauvegardé\n",
      "fichier t = 245 absent\n",
      "(104, 5, 512, 512)\n"
     ]
    },
    {
     "name": "stderr",
     "output_type": "stream",
     "text": [
      "100%|██████████| 32/32 [00:07<00:00,  4.04it/s]\n"
     ]
    },
    {
     "name": "stdout",
     "output_type": "stream",
     "text": [
      "(104, 1, 512, 512)\n",
      "fichier t = 246 sauvegardé\n",
      "fichier t = 247 absent\n",
      "(104, 5, 512, 512)\n"
     ]
    },
    {
     "name": "stderr",
     "output_type": "stream",
     "text": [
      "100%|██████████| 32/32 [00:07<00:00,  4.11it/s]\n"
     ]
    },
    {
     "name": "stdout",
     "output_type": "stream",
     "text": [
      "(104, 1, 512, 512)\n",
      "fichier t = 248 sauvegardé\n",
      "fichier t = 249 absent\n",
      "(104, 5, 512, 512)\n"
     ]
    },
    {
     "name": "stderr",
     "output_type": "stream",
     "text": [
      "100%|██████████| 32/32 [00:08<00:00,  3.97it/s]\n"
     ]
    },
    {
     "name": "stdout",
     "output_type": "stream",
     "text": [
      "(104, 1, 512, 512)\n",
      "fichier t = 250 sauvegardé\n",
      "fichier t = 251 absent\n",
      "(104, 5, 512, 512)\n"
     ]
    },
    {
     "name": "stderr",
     "output_type": "stream",
     "text": [
      "100%|██████████| 32/32 [00:08<00:00,  3.86it/s]\n"
     ]
    },
    {
     "name": "stdout",
     "output_type": "stream",
     "text": [
      "(104, 1, 512, 512)\n",
      "fichier t = 252 sauvegardé\n",
      "fichier t = 253 absent\n",
      "(104, 5, 512, 512)\n"
     ]
    },
    {
     "name": "stderr",
     "output_type": "stream",
     "text": [
      "100%|██████████| 32/32 [00:07<00:00,  4.17it/s]\n"
     ]
    },
    {
     "name": "stdout",
     "output_type": "stream",
     "text": [
      "(104, 1, 512, 512)\n",
      "fichier t = 254 sauvegardé\n",
      "fichier t = 255 absent\n",
      "(104, 5, 512, 512)\n"
     ]
    },
    {
     "name": "stderr",
     "output_type": "stream",
     "text": [
      "100%|██████████| 32/32 [00:07<00:00,  4.04it/s]\n"
     ]
    },
    {
     "name": "stdout",
     "output_type": "stream",
     "text": [
      "(104, 1, 512, 512)\n",
      "fichier t = 256 sauvegardé\n",
      "fichier t = 257 absent\n",
      "(104, 5, 512, 512)\n"
     ]
    },
    {
     "name": "stderr",
     "output_type": "stream",
     "text": [
      "100%|██████████| 32/32 [00:07<00:00,  4.02it/s]\n"
     ]
    },
    {
     "name": "stdout",
     "output_type": "stream",
     "text": [
      "(104, 1, 512, 512)\n",
      "fichier t = 258 sauvegardé\n",
      "fichier t = 259 absent\n",
      "(104, 5, 512, 512)\n"
     ]
    },
    {
     "name": "stderr",
     "output_type": "stream",
     "text": [
      "100%|██████████| 32/32 [00:07<00:00,  4.06it/s]\n"
     ]
    },
    {
     "name": "stdout",
     "output_type": "stream",
     "text": [
      "(104, 1, 512, 512)\n",
      "fichier t = 260 sauvegardé\n",
      "fichier t = 261 absent\n",
      "(104, 5, 512, 512)\n"
     ]
    },
    {
     "name": "stderr",
     "output_type": "stream",
     "text": [
      "100%|██████████| 32/32 [00:08<00:00,  3.85it/s]\n"
     ]
    },
    {
     "name": "stdout",
     "output_type": "stream",
     "text": [
      "(104, 1, 512, 512)\n",
      "fichier t = 262 sauvegardé\n",
      "fichier t = 263 absent\n",
      "(104, 5, 512, 512)\n"
     ]
    },
    {
     "name": "stderr",
     "output_type": "stream",
     "text": [
      "100%|██████████| 32/32 [00:07<00:00,  4.11it/s]\n"
     ]
    },
    {
     "name": "stdout",
     "output_type": "stream",
     "text": [
      "(104, 1, 512, 512)\n",
      "fichier t = 264 sauvegardé\n",
      "fichier t = 265 absent\n",
      "(104, 5, 512, 512)\n"
     ]
    },
    {
     "name": "stderr",
     "output_type": "stream",
     "text": [
      "100%|██████████| 32/32 [00:07<00:00,  4.10it/s]\n"
     ]
    },
    {
     "name": "stdout",
     "output_type": "stream",
     "text": [
      "(104, 1, 512, 512)\n",
      "fichier t = 266 sauvegardé\n",
      "fichier t = 267 absent\n",
      "(104, 5, 512, 512)\n"
     ]
    },
    {
     "name": "stderr",
     "output_type": "stream",
     "text": [
      "100%|██████████| 32/32 [00:08<00:00,  3.78it/s]\n"
     ]
    },
    {
     "name": "stdout",
     "output_type": "stream",
     "text": [
      "(104, 1, 512, 512)\n",
      "fichier t = 268 sauvegardé\n",
      "fichier t = 269 absent\n",
      "(104, 5, 512, 512)\n"
     ]
    },
    {
     "name": "stderr",
     "output_type": "stream",
     "text": [
      "100%|██████████| 32/32 [00:08<00:00,  3.82it/s]\n"
     ]
    },
    {
     "name": "stdout",
     "output_type": "stream",
     "text": [
      "(104, 1, 512, 512)\n",
      "fichier t = 270 sauvegardé\n",
      "fichier t = 271 absent\n",
      "(104, 5, 512, 512)\n"
     ]
    },
    {
     "name": "stderr",
     "output_type": "stream",
     "text": [
      "100%|██████████| 32/32 [00:08<00:00,  3.98it/s]\n"
     ]
    },
    {
     "name": "stdout",
     "output_type": "stream",
     "text": [
      "(104, 1, 512, 512)\n",
      "fichier t = 272 sauvegardé\n",
      "fichier t = 273 absent\n",
      "(104, 5, 512, 512)\n"
     ]
    },
    {
     "name": "stderr",
     "output_type": "stream",
     "text": [
      "100%|██████████| 32/32 [00:07<00:00,  4.04it/s]\n"
     ]
    },
    {
     "name": "stdout",
     "output_type": "stream",
     "text": [
      "(104, 1, 512, 512)\n",
      "fichier t = 274 sauvegardé\n",
      "fichier t = 275 absent\n",
      "(104, 5, 512, 512)\n"
     ]
    },
    {
     "name": "stderr",
     "output_type": "stream",
     "text": [
      "100%|██████████| 32/32 [00:07<00:00,  4.09it/s]\n"
     ]
    },
    {
     "name": "stdout",
     "output_type": "stream",
     "text": [
      "(104, 1, 512, 512)\n",
      "fichier t = 276 sauvegardé\n",
      "fichier t = 277 absent\n",
      "(104, 5, 512, 512)\n"
     ]
    },
    {
     "name": "stderr",
     "output_type": "stream",
     "text": [
      "100%|██████████| 32/32 [00:07<00:00,  4.07it/s]\n"
     ]
    },
    {
     "name": "stdout",
     "output_type": "stream",
     "text": [
      "(104, 1, 512, 512)\n",
      "fichier t = 278 sauvegardé\n",
      "fichier t = 279 absent\n",
      "(104, 5, 512, 512)\n"
     ]
    },
    {
     "name": "stderr",
     "output_type": "stream",
     "text": [
      "100%|██████████| 32/32 [00:08<00:00,  3.91it/s]\n"
     ]
    },
    {
     "name": "stdout",
     "output_type": "stream",
     "text": [
      "(104, 1, 512, 512)\n",
      "fichier t = 280 sauvegardé\n",
      "fichier t = 281 absent\n",
      "(104, 5, 512, 512)\n"
     ]
    },
    {
     "name": "stderr",
     "output_type": "stream",
     "text": [
      "100%|██████████| 32/32 [00:07<00:00,  4.08it/s]\n"
     ]
    },
    {
     "name": "stdout",
     "output_type": "stream",
     "text": [
      "(104, 1, 512, 512)\n",
      "fichier t = 282 sauvegardé\n",
      "fichier t = 283 absent\n",
      "(104, 5, 512, 512)\n"
     ]
    },
    {
     "name": "stderr",
     "output_type": "stream",
     "text": [
      "100%|██████████| 32/32 [00:07<00:00,  4.07it/s]\n"
     ]
    },
    {
     "name": "stdout",
     "output_type": "stream",
     "text": [
      "(104, 1, 512, 512)\n",
      "fichier t = 284 sauvegardé\n",
      "fichier t = 285 absent\n",
      "(104, 5, 512, 512)\n"
     ]
    },
    {
     "name": "stderr",
     "output_type": "stream",
     "text": [
      "100%|██████████| 32/32 [00:07<00:00,  4.06it/s]\n"
     ]
    },
    {
     "name": "stdout",
     "output_type": "stream",
     "text": [
      "(104, 1, 512, 512)\n",
      "fichier t = 286 sauvegardé\n",
      "fichier t = 287 absent\n",
      "(104, 5, 512, 512)\n"
     ]
    },
    {
     "name": "stderr",
     "output_type": "stream",
     "text": [
      "100%|██████████| 32/32 [00:08<00:00,  3.95it/s]\n"
     ]
    },
    {
     "name": "stdout",
     "output_type": "stream",
     "text": [
      "(104, 1, 512, 512)\n",
      "fichier t = 288 sauvegardé\n",
      "fichier t = 289 absent\n",
      "(104, 5, 512, 512)\n"
     ]
    },
    {
     "name": "stderr",
     "output_type": "stream",
     "text": [
      "100%|██████████| 32/32 [00:08<00:00,  3.89it/s]\n"
     ]
    },
    {
     "name": "stdout",
     "output_type": "stream",
     "text": [
      "(104, 1, 512, 512)\n",
      "fichier t = 290 sauvegardé\n",
      "fichier t = 291 absent\n",
      "(104, 5, 512, 512)\n"
     ]
    },
    {
     "name": "stderr",
     "output_type": "stream",
     "text": [
      "100%|██████████| 32/32 [00:08<00:00,  3.94it/s]\n"
     ]
    },
    {
     "name": "stdout",
     "output_type": "stream",
     "text": [
      "(104, 1, 512, 512)\n",
      "fichier t = 292 sauvegardé\n",
      "fichier t = 293 absent\n",
      "(104, 5, 512, 512)\n"
     ]
    },
    {
     "name": "stderr",
     "output_type": "stream",
     "text": [
      "100%|██████████| 32/32 [00:07<00:00,  4.08it/s]\n"
     ]
    },
    {
     "name": "stdout",
     "output_type": "stream",
     "text": [
      "(104, 1, 512, 512)\n",
      "fichier t = 294 sauvegardé\n",
      "fichier t = 295 absent\n",
      "(104, 5, 512, 512)\n"
     ]
    },
    {
     "name": "stderr",
     "output_type": "stream",
     "text": [
      "100%|██████████| 32/32 [00:08<00:00,  3.98it/s]\n"
     ]
    },
    {
     "name": "stdout",
     "output_type": "stream",
     "text": [
      "(104, 1, 512, 512)\n",
      "fichier t = 296 sauvegardé\n",
      "fichier t = 297 absent\n",
      "(104, 5, 512, 512)\n"
     ]
    },
    {
     "name": "stderr",
     "output_type": "stream",
     "text": [
      "100%|██████████| 32/32 [00:07<00:00,  4.03it/s]\n"
     ]
    },
    {
     "name": "stdout",
     "output_type": "stream",
     "text": [
      "(104, 1, 512, 512)\n",
      "fichier t = 298 sauvegardé\n",
      "fichier t = 299 absent\n",
      "(104, 5, 512, 512)\n"
     ]
    },
    {
     "name": "stderr",
     "output_type": "stream",
     "text": [
      "100%|██████████| 32/32 [00:08<00:00,  3.91it/s]\n"
     ]
    },
    {
     "name": "stdout",
     "output_type": "stream",
     "text": [
      "(104, 1, 512, 512)\n",
      "fichier t = 300 sauvegardé\n",
      "(104, 5, 512, 512)\n"
     ]
    },
    {
     "name": "stderr",
     "output_type": "stream",
     "text": [
      "100%|██████████| 32/32 [00:07<00:00,  4.09it/s]\n"
     ]
    },
    {
     "name": "stdout",
     "output_type": "stream",
     "text": [
      "(104, 1, 512, 512)\n",
      "fichier t = 301 sauvegardé\n",
      "(104, 5, 512, 512)\n"
     ]
    },
    {
     "name": "stderr",
     "output_type": "stream",
     "text": [
      "100%|██████████| 32/32 [00:07<00:00,  4.03it/s]\n"
     ]
    },
    {
     "name": "stdout",
     "output_type": "stream",
     "text": [
      "(104, 1, 512, 512)\n",
      "fichier t = 302 sauvegardé\n",
      "(104, 5, 512, 512)\n"
     ]
    },
    {
     "name": "stderr",
     "output_type": "stream",
     "text": [
      "100%|██████████| 32/32 [00:08<00:00,  3.91it/s]\n"
     ]
    },
    {
     "name": "stdout",
     "output_type": "stream",
     "text": [
      "(104, 1, 512, 512)\n",
      "fichier t = 303 sauvegardé\n",
      "(104, 5, 512, 512)\n"
     ]
    },
    {
     "name": "stderr",
     "output_type": "stream",
     "text": [
      "100%|██████████| 32/32 [00:08<00:00,  3.90it/s]\n"
     ]
    },
    {
     "name": "stdout",
     "output_type": "stream",
     "text": [
      "(104, 1, 512, 512)\n",
      "fichier t = 304 sauvegardé\n",
      "(104, 5, 512, 512)\n"
     ]
    },
    {
     "name": "stderr",
     "output_type": "stream",
     "text": [
      "100%|██████████| 32/32 [00:07<00:00,  4.07it/s]\n"
     ]
    },
    {
     "name": "stdout",
     "output_type": "stream",
     "text": [
      "(104, 1, 512, 512)\n",
      "fichier t = 305 sauvegardé\n",
      "(104, 5, 512, 512)\n"
     ]
    },
    {
     "name": "stderr",
     "output_type": "stream",
     "text": [
      "100%|██████████| 32/32 [00:08<00:00,  3.97it/s]\n"
     ]
    },
    {
     "name": "stdout",
     "output_type": "stream",
     "text": [
      "(104, 1, 512, 512)\n",
      "fichier t = 306 sauvegardé\n",
      "(104, 5, 512, 512)\n"
     ]
    },
    {
     "name": "stderr",
     "output_type": "stream",
     "text": [
      "100%|██████████| 32/32 [00:07<00:00,  4.04it/s]\n"
     ]
    },
    {
     "name": "stdout",
     "output_type": "stream",
     "text": [
      "(104, 1, 512, 512)\n",
      "fichier t = 307 sauvegardé\n",
      "(104, 5, 512, 512)\n"
     ]
    },
    {
     "name": "stderr",
     "output_type": "stream",
     "text": [
      "100%|██████████| 32/32 [00:07<00:00,  4.07it/s]\n"
     ]
    },
    {
     "name": "stdout",
     "output_type": "stream",
     "text": [
      "(104, 1, 512, 512)\n",
      "fichier t = 308 sauvegardé\n",
      "(104, 5, 512, 512)\n"
     ]
    },
    {
     "name": "stderr",
     "output_type": "stream",
     "text": [
      "100%|██████████| 32/32 [00:08<00:00,  3.93it/s]\n"
     ]
    },
    {
     "name": "stdout",
     "output_type": "stream",
     "text": [
      "(104, 1, 512, 512)\n",
      "fichier t = 309 sauvegardé\n",
      "(104, 5, 512, 512)\n"
     ]
    },
    {
     "name": "stderr",
     "output_type": "stream",
     "text": [
      "100%|██████████| 32/32 [00:08<00:00,  3.99it/s]\n"
     ]
    },
    {
     "name": "stdout",
     "output_type": "stream",
     "text": [
      "(104, 1, 512, 512)\n",
      "fichier t = 310 sauvegardé\n",
      "(104, 5, 512, 512)\n"
     ]
    },
    {
     "name": "stderr",
     "output_type": "stream",
     "text": [
      "100%|██████████| 32/32 [00:07<00:00,  4.08it/s]\n"
     ]
    },
    {
     "name": "stdout",
     "output_type": "stream",
     "text": [
      "(104, 1, 512, 512)\n",
      "fichier t = 311 sauvegardé\n",
      "(104, 5, 512, 512)\n"
     ]
    },
    {
     "name": "stderr",
     "output_type": "stream",
     "text": [
      "100%|██████████| 32/32 [00:07<00:00,  4.13it/s]\n"
     ]
    },
    {
     "name": "stdout",
     "output_type": "stream",
     "text": [
      "(104, 1, 512, 512)\n",
      "fichier t = 312 sauvegardé\n",
      "(104, 5, 512, 512)\n"
     ]
    },
    {
     "name": "stderr",
     "output_type": "stream",
     "text": [
      "100%|██████████| 32/32 [00:07<00:00,  4.06it/s]\n"
     ]
    },
    {
     "name": "stdout",
     "output_type": "stream",
     "text": [
      "(104, 1, 512, 512)\n",
      "fichier t = 313 sauvegardé\n",
      "(104, 5, 512, 512)\n"
     ]
    },
    {
     "name": "stderr",
     "output_type": "stream",
     "text": [
      "100%|██████████| 32/32 [00:08<00:00,  3.89it/s]\n"
     ]
    },
    {
     "name": "stdout",
     "output_type": "stream",
     "text": [
      "(104, 1, 512, 512)\n",
      "fichier t = 314 sauvegardé\n",
      "(104, 5, 512, 512)\n"
     ]
    },
    {
     "name": "stderr",
     "output_type": "stream",
     "text": [
      "100%|██████████| 32/32 [00:07<00:00,  4.03it/s]\n"
     ]
    },
    {
     "name": "stdout",
     "output_type": "stream",
     "text": [
      "(104, 1, 512, 512)\n",
      "fichier t = 315 sauvegardé\n",
      "(104, 5, 512, 512)\n"
     ]
    },
    {
     "name": "stderr",
     "output_type": "stream",
     "text": [
      "100%|██████████| 32/32 [00:08<00:00,  3.96it/s]\n"
     ]
    },
    {
     "name": "stdout",
     "output_type": "stream",
     "text": [
      "(104, 1, 512, 512)\n",
      "fichier t = 316 sauvegardé\n",
      "(104, 5, 512, 512)\n"
     ]
    },
    {
     "name": "stderr",
     "output_type": "stream",
     "text": [
      "100%|██████████| 32/32 [00:07<00:00,  4.14it/s]\n"
     ]
    },
    {
     "name": "stdout",
     "output_type": "stream",
     "text": [
      "(104, 1, 512, 512)\n",
      "fichier t = 317 sauvegardé\n",
      "(104, 5, 512, 512)\n"
     ]
    },
    {
     "name": "stderr",
     "output_type": "stream",
     "text": [
      "100%|██████████| 32/32 [00:07<00:00,  4.10it/s]\n"
     ]
    },
    {
     "name": "stdout",
     "output_type": "stream",
     "text": [
      "(104, 1, 512, 512)\n",
      "fichier t = 318 sauvegardé\n",
      "(104, 5, 512, 512)\n"
     ]
    },
    {
     "name": "stderr",
     "output_type": "stream",
     "text": [
      "100%|██████████| 32/32 [00:08<00:00,  3.85it/s]\n"
     ]
    },
    {
     "name": "stdout",
     "output_type": "stream",
     "text": [
      "(104, 1, 512, 512)\n",
      "fichier t = 319 sauvegardé\n",
      "(104, 5, 512, 512)\n"
     ]
    },
    {
     "name": "stderr",
     "output_type": "stream",
     "text": [
      "100%|██████████| 32/32 [00:07<00:00,  4.10it/s]\n"
     ]
    },
    {
     "name": "stdout",
     "output_type": "stream",
     "text": [
      "(104, 1, 512, 512)\n",
      "fichier t = 320 sauvegardé\n",
      "(104, 5, 512, 512)\n"
     ]
    },
    {
     "name": "stderr",
     "output_type": "stream",
     "text": [
      "100%|██████████| 32/32 [00:07<00:00,  4.04it/s]\n"
     ]
    },
    {
     "name": "stdout",
     "output_type": "stream",
     "text": [
      "(104, 1, 512, 512)\n",
      "fichier t = 321 sauvegardé\n",
      "(104, 5, 512, 512)\n"
     ]
    },
    {
     "name": "stderr",
     "output_type": "stream",
     "text": [
      "100%|██████████| 32/32 [00:07<00:00,  4.03it/s]\n"
     ]
    },
    {
     "name": "stdout",
     "output_type": "stream",
     "text": [
      "(104, 1, 512, 512)\n",
      "fichier t = 322 sauvegardé\n",
      "(104, 5, 512, 512)\n"
     ]
    },
    {
     "name": "stderr",
     "output_type": "stream",
     "text": [
      "100%|██████████| 32/32 [00:07<00:00,  4.08it/s]\n"
     ]
    },
    {
     "name": "stdout",
     "output_type": "stream",
     "text": [
      "(104, 1, 512, 512)\n",
      "fichier t = 323 sauvegardé\n",
      "(104, 5, 512, 512)\n"
     ]
    },
    {
     "name": "stderr",
     "output_type": "stream",
     "text": [
      "100%|██████████| 32/32 [00:08<00:00,  3.88it/s]\n"
     ]
    },
    {
     "name": "stdout",
     "output_type": "stream",
     "text": [
      "(104, 1, 512, 512)\n",
      "fichier t = 324 sauvegardé\n",
      "(104, 5, 512, 512)\n"
     ]
    },
    {
     "name": "stderr",
     "output_type": "stream",
     "text": [
      "100%|██████████| 32/32 [00:07<00:00,  4.03it/s]\n"
     ]
    },
    {
     "name": "stdout",
     "output_type": "stream",
     "text": [
      "(104, 1, 512, 512)\n",
      "fichier t = 325 sauvegardé\n",
      "(104, 5, 512, 512)\n"
     ]
    },
    {
     "name": "stderr",
     "output_type": "stream",
     "text": [
      "100%|██████████| 32/32 [00:07<00:00,  4.05it/s]\n"
     ]
    },
    {
     "name": "stdout",
     "output_type": "stream",
     "text": [
      "(104, 1, 512, 512)\n",
      "fichier t = 326 sauvegardé\n",
      "(104, 5, 512, 512)\n"
     ]
    },
    {
     "name": "stderr",
     "output_type": "stream",
     "text": [
      "100%|██████████| 32/32 [00:07<00:00,  4.06it/s]\n"
     ]
    },
    {
     "name": "stdout",
     "output_type": "stream",
     "text": [
      "(104, 1, 512, 512)\n",
      "fichier t = 327 sauvegardé\n",
      "(104, 5, 512, 512)\n"
     ]
    },
    {
     "name": "stderr",
     "output_type": "stream",
     "text": [
      "100%|██████████| 32/32 [00:08<00:00,  3.89it/s]\n"
     ]
    },
    {
     "name": "stdout",
     "output_type": "stream",
     "text": [
      "(104, 1, 512, 512)\n",
      "fichier t = 328 sauvegardé\n",
      "(104, 5, 512, 512)\n"
     ]
    },
    {
     "name": "stderr",
     "output_type": "stream",
     "text": [
      "100%|██████████| 32/32 [00:07<00:00,  4.09it/s]\n"
     ]
    },
    {
     "name": "stdout",
     "output_type": "stream",
     "text": [
      "(104, 1, 512, 512)\n",
      "fichier t = 329 sauvegardé\n",
      "(104, 5, 512, 512)\n"
     ]
    },
    {
     "name": "stderr",
     "output_type": "stream",
     "text": [
      "100%|██████████| 32/32 [00:07<00:00,  4.09it/s]\n"
     ]
    },
    {
     "name": "stdout",
     "output_type": "stream",
     "text": [
      "(104, 1, 512, 512)\n",
      "fichier t = 330 sauvegardé\n",
      "(104, 5, 512, 512)\n"
     ]
    },
    {
     "name": "stderr",
     "output_type": "stream",
     "text": [
      "100%|██████████| 32/32 [00:07<00:00,  4.01it/s]\n"
     ]
    },
    {
     "name": "stdout",
     "output_type": "stream",
     "text": [
      "(104, 1, 512, 512)\n",
      "fichier t = 331 sauvegardé\n",
      "(104, 5, 512, 512)\n"
     ]
    },
    {
     "name": "stderr",
     "output_type": "stream",
     "text": [
      "100%|██████████| 32/32 [00:08<00:00,  3.95it/s]\n"
     ]
    },
    {
     "name": "stdout",
     "output_type": "stream",
     "text": [
      "(104, 1, 512, 512)\n",
      "fichier t = 332 sauvegardé\n",
      "(104, 5, 512, 512)\n"
     ]
    },
    {
     "name": "stderr",
     "output_type": "stream",
     "text": [
      "100%|██████████| 32/32 [00:08<00:00,  3.91it/s]\n"
     ]
    },
    {
     "name": "stdout",
     "output_type": "stream",
     "text": [
      "(104, 1, 512, 512)\n",
      "fichier t = 333 sauvegardé\n",
      "(104, 5, 512, 512)\n"
     ]
    },
    {
     "name": "stderr",
     "output_type": "stream",
     "text": [
      "100%|██████████| 32/32 [00:07<00:00,  4.08it/s]\n"
     ]
    },
    {
     "name": "stdout",
     "output_type": "stream",
     "text": [
      "(104, 1, 512, 512)\n",
      "fichier t = 334 sauvegardé\n",
      "(104, 5, 512, 512)\n"
     ]
    },
    {
     "name": "stderr",
     "output_type": "stream",
     "text": [
      "100%|██████████| 32/32 [00:08<00:00,  3.89it/s]\n"
     ]
    },
    {
     "name": "stdout",
     "output_type": "stream",
     "text": [
      "(104, 1, 512, 512)\n",
      "fichier t = 335 sauvegardé\n",
      "(104, 5, 512, 512)\n"
     ]
    },
    {
     "name": "stderr",
     "output_type": "stream",
     "text": [
      "100%|██████████| 32/32 [00:07<00:00,  4.01it/s]\n"
     ]
    },
    {
     "name": "stdout",
     "output_type": "stream",
     "text": [
      "(104, 1, 512, 512)\n",
      "fichier t = 336 sauvegardé\n",
      "(104, 5, 512, 512)\n"
     ]
    },
    {
     "name": "stderr",
     "output_type": "stream",
     "text": [
      "100%|██████████| 32/32 [00:07<00:00,  4.08it/s]\n"
     ]
    },
    {
     "name": "stdout",
     "output_type": "stream",
     "text": [
      "(104, 1, 512, 512)\n",
      "fichier t = 337 sauvegardé\n",
      "(104, 5, 512, 512)\n"
     ]
    },
    {
     "name": "stderr",
     "output_type": "stream",
     "text": [
      "100%|██████████| 32/32 [00:08<00:00,  3.84it/s]\n"
     ]
    },
    {
     "name": "stdout",
     "output_type": "stream",
     "text": [
      "(104, 1, 512, 512)\n",
      "fichier t = 338 sauvegardé\n",
      "(104, 5, 512, 512)\n"
     ]
    },
    {
     "name": "stderr",
     "output_type": "stream",
     "text": [
      "100%|██████████| 32/32 [00:08<00:00,  3.99it/s]\n"
     ]
    },
    {
     "name": "stdout",
     "output_type": "stream",
     "text": [
      "(104, 1, 512, 512)\n",
      "fichier t = 339 sauvegardé\n",
      "(104, 5, 512, 512)\n"
     ]
    },
    {
     "name": "stderr",
     "output_type": "stream",
     "text": [
      "100%|██████████| 32/32 [00:08<00:00,  3.91it/s]\n"
     ]
    },
    {
     "name": "stdout",
     "output_type": "stream",
     "text": [
      "(104, 1, 512, 512)\n",
      "fichier t = 340 sauvegardé\n",
      "(104, 5, 512, 512)\n"
     ]
    },
    {
     "name": "stderr",
     "output_type": "stream",
     "text": [
      "100%|██████████| 32/32 [00:08<00:00,  3.98it/s]\n"
     ]
    },
    {
     "name": "stdout",
     "output_type": "stream",
     "text": [
      "(104, 1, 512, 512)\n",
      "fichier t = 341 sauvegardé\n",
      "(104, 5, 512, 512)\n"
     ]
    },
    {
     "name": "stderr",
     "output_type": "stream",
     "text": [
      "100%|██████████| 32/32 [00:07<00:00,  4.05it/s]\n"
     ]
    },
    {
     "name": "stdout",
     "output_type": "stream",
     "text": [
      "(104, 1, 512, 512)\n",
      "fichier t = 342 sauvegardé\n",
      "(104, 5, 512, 512)\n"
     ]
    },
    {
     "name": "stderr",
     "output_type": "stream",
     "text": [
      "100%|██████████| 32/32 [00:08<00:00,  3.95it/s]\n"
     ]
    },
    {
     "name": "stdout",
     "output_type": "stream",
     "text": [
      "(104, 1, 512, 512)\n",
      "fichier t = 343 sauvegardé\n",
      "(104, 5, 512, 512)\n"
     ]
    },
    {
     "name": "stderr",
     "output_type": "stream",
     "text": [
      "100%|██████████| 32/32 [00:07<00:00,  4.04it/s]\n"
     ]
    },
    {
     "name": "stdout",
     "output_type": "stream",
     "text": [
      "(104, 1, 512, 512)\n",
      "fichier t = 344 sauvegardé\n",
      "(104, 5, 512, 512)\n"
     ]
    },
    {
     "name": "stderr",
     "output_type": "stream",
     "text": [
      "100%|██████████| 32/32 [00:07<00:00,  4.01it/s] \n"
     ]
    },
    {
     "name": "stdout",
     "output_type": "stream",
     "text": [
      "(104, 1, 512, 512)\n",
      "fichier t = 345 sauvegardé\n",
      "(104, 5, 512, 512)\n"
     ]
    },
    {
     "name": "stderr",
     "output_type": "stream",
     "text": [
      "100%|██████████| 32/32 [00:08<00:00,  3.96it/s]\n"
     ]
    },
    {
     "name": "stdout",
     "output_type": "stream",
     "text": [
      "(104, 1, 512, 512)\n",
      "fichier t = 346 sauvegardé\n",
      "(104, 5, 512, 512)\n"
     ]
    },
    {
     "name": "stderr",
     "output_type": "stream",
     "text": [
      "100%|██████████| 32/32 [00:08<00:00,  3.87it/s]\n"
     ]
    },
    {
     "name": "stdout",
     "output_type": "stream",
     "text": [
      "(104, 1, 512, 512)\n",
      "fichier t = 347 sauvegardé\n",
      "(104, 5, 512, 512)\n"
     ]
    },
    {
     "name": "stderr",
     "output_type": "stream",
     "text": [
      "100%|██████████| 32/32 [00:08<00:00,  3.91it/s]\n"
     ]
    },
    {
     "name": "stdout",
     "output_type": "stream",
     "text": [
      "(104, 1, 512, 512)\n",
      "fichier t = 348 sauvegardé\n",
      "(104, 5, 512, 512)\n"
     ]
    },
    {
     "name": "stderr",
     "output_type": "stream",
     "text": [
      "100%|██████████| 32/32 [00:07<00:00,  4.01it/s]\n"
     ]
    },
    {
     "name": "stdout",
     "output_type": "stream",
     "text": [
      "(104, 1, 512, 512)\n",
      "fichier t = 349 sauvegardé\n",
      "(104, 5, 512, 512)\n"
     ]
    },
    {
     "name": "stderr",
     "output_type": "stream",
     "text": [
      "100%|██████████| 32/32 [00:07<00:00,  4.11it/s]\n"
     ]
    },
    {
     "name": "stdout",
     "output_type": "stream",
     "text": [
      "(104, 1, 512, 512)\n",
      "fichier t = 350 sauvegardé\n",
      "(104, 5, 512, 512)\n"
     ]
    },
    {
     "name": "stderr",
     "output_type": "stream",
     "text": [
      "100%|██████████| 32/32 [00:07<00:00,  4.11it/s]\n"
     ]
    },
    {
     "name": "stdout",
     "output_type": "stream",
     "text": [
      "(104, 1, 512, 512)\n",
      "fichier t = 351 sauvegardé\n",
      "(104, 5, 512, 512)\n"
     ]
    },
    {
     "name": "stderr",
     "output_type": "stream",
     "text": [
      "100%|██████████| 32/32 [00:08<00:00,  3.87it/s]\n"
     ]
    },
    {
     "name": "stdout",
     "output_type": "stream",
     "text": [
      "(104, 1, 512, 512)\n",
      "fichier t = 352 sauvegardé\n",
      "(104, 5, 512, 512)\n"
     ]
    },
    {
     "name": "stderr",
     "output_type": "stream",
     "text": [
      "100%|██████████| 32/32 [00:07<00:00,  4.16it/s]\n"
     ]
    },
    {
     "name": "stdout",
     "output_type": "stream",
     "text": [
      "(104, 1, 512, 512)\n",
      "fichier t = 353 sauvegardé\n",
      "(104, 5, 512, 512)\n"
     ]
    },
    {
     "name": "stderr",
     "output_type": "stream",
     "text": [
      "100%|██████████| 32/32 [00:07<00:00,  4.00it/s]\n"
     ]
    },
    {
     "name": "stdout",
     "output_type": "stream",
     "text": [
      "(104, 1, 512, 512)\n",
      "fichier t = 354 sauvegardé\n",
      "(104, 5, 512, 512)\n"
     ]
    },
    {
     "name": "stderr",
     "output_type": "stream",
     "text": [
      "100%|██████████| 32/32 [00:07<00:00,  4.05it/s]\n"
     ]
    },
    {
     "name": "stdout",
     "output_type": "stream",
     "text": [
      "(104, 1, 512, 512)\n",
      "fichier t = 355 sauvegardé\n",
      "(104, 5, 512, 512)\n"
     ]
    },
    {
     "name": "stderr",
     "output_type": "stream",
     "text": [
      "100%|██████████| 32/32 [00:07<00:00,  4.05it/s]\n"
     ]
    },
    {
     "name": "stdout",
     "output_type": "stream",
     "text": [
      "(104, 1, 512, 512)\n",
      "fichier t = 356 sauvegardé\n",
      "(104, 5, 512, 512)\n"
     ]
    },
    {
     "name": "stderr",
     "output_type": "stream",
     "text": [
      "100%|██████████| 32/32 [00:08<00:00,  3.90it/s]\n"
     ]
    },
    {
     "name": "stdout",
     "output_type": "stream",
     "text": [
      "(104, 1, 512, 512)\n",
      "fichier t = 357 sauvegardé\n",
      "(104, 5, 512, 512)\n"
     ]
    },
    {
     "name": "stderr",
     "output_type": "stream",
     "text": [
      "100%|██████████| 32/32 [00:08<00:00,  3.88it/s]\n"
     ]
    },
    {
     "name": "stdout",
     "output_type": "stream",
     "text": [
      "(104, 1, 512, 512)\n",
      "fichier t = 358 sauvegardé\n",
      "(104, 5, 512, 512)\n"
     ]
    },
    {
     "name": "stderr",
     "output_type": "stream",
     "text": [
      "100%|██████████| 32/32 [00:07<00:00,  4.01it/s]\n"
     ]
    },
    {
     "name": "stdout",
     "output_type": "stream",
     "text": [
      "(104, 1, 512, 512)\n",
      "fichier t = 359 sauvegardé\n",
      "(104, 5, 512, 512)\n"
     ]
    },
    {
     "name": "stderr",
     "output_type": "stream",
     "text": [
      "100%|██████████| 32/32 [00:07<00:00,  4.10it/s]\n"
     ]
    },
    {
     "name": "stdout",
     "output_type": "stream",
     "text": [
      "(104, 1, 512, 512)\n",
      "fichier t = 360 sauvegardé\n",
      "(104, 5, 512, 512)\n"
     ]
    },
    {
     "name": "stderr",
     "output_type": "stream",
     "text": [
      "100%|██████████| 32/32 [00:07<00:00,  4.01it/s]\n"
     ]
    },
    {
     "name": "stdout",
     "output_type": "stream",
     "text": [
      "(104, 1, 512, 512)\n",
      "fichier t = 361 sauvegardé\n",
      "(104, 5, 512, 512)\n"
     ]
    },
    {
     "name": "stderr",
     "output_type": "stream",
     "text": [
      "100%|██████████| 32/32 [00:07<00:00,  4.01it/s]\n"
     ]
    },
    {
     "name": "stdout",
     "output_type": "stream",
     "text": [
      "(104, 1, 512, 512)\n",
      "fichier t = 362 sauvegardé\n",
      "(104, 5, 512, 512)\n"
     ]
    },
    {
     "name": "stderr",
     "output_type": "stream",
     "text": [
      "100%|██████████| 32/32 [00:08<00:00,  3.98it/s]\n"
     ]
    },
    {
     "name": "stdout",
     "output_type": "stream",
     "text": [
      "(104, 1, 512, 512)\n",
      "fichier t = 363 sauvegardé\n",
      "(104, 5, 512, 512)\n"
     ]
    },
    {
     "name": "stderr",
     "output_type": "stream",
     "text": [
      "100%|██████████| 32/32 [00:07<00:00,  4.03it/s]\n"
     ]
    },
    {
     "name": "stdout",
     "output_type": "stream",
     "text": [
      "(104, 1, 512, 512)\n",
      "fichier t = 364 sauvegardé\n",
      "(104, 5, 512, 512)\n"
     ]
    },
    {
     "name": "stderr",
     "output_type": "stream",
     "text": [
      "100%|██████████| 32/32 [00:07<00:00,  4.05it/s]\n"
     ]
    },
    {
     "name": "stdout",
     "output_type": "stream",
     "text": [
      "(104, 1, 512, 512)\n",
      "fichier t = 365 sauvegardé\n",
      "(104, 5, 512, 512)\n"
     ]
    },
    {
     "name": "stderr",
     "output_type": "stream",
     "text": [
      "100%|██████████| 32/32 [00:08<00:00,  3.87it/s]\n"
     ]
    },
    {
     "name": "stdout",
     "output_type": "stream",
     "text": [
      "(104, 1, 512, 512)\n",
      "fichier t = 366 sauvegardé\n",
      "(104, 5, 512, 512)\n"
     ]
    },
    {
     "name": "stderr",
     "output_type": "stream",
     "text": [
      "100%|██████████| 32/32 [00:07<00:00,  4.13it/s]\n"
     ]
    },
    {
     "name": "stdout",
     "output_type": "stream",
     "text": [
      "(104, 1, 512, 512)\n",
      "fichier t = 367 sauvegardé\n",
      "(104, 5, 512, 512)\n"
     ]
    },
    {
     "name": "stderr",
     "output_type": "stream",
     "text": [
      "100%|██████████| 32/32 [00:07<00:00,  4.08it/s]\n"
     ]
    },
    {
     "name": "stdout",
     "output_type": "stream",
     "text": [
      "(104, 1, 512, 512)\n",
      "fichier t = 368 sauvegardé\n",
      "(104, 5, 512, 512)\n"
     ]
    },
    {
     "name": "stderr",
     "output_type": "stream",
     "text": [
      "100%|██████████| 32/32 [00:07<00:00,  4.12it/s]\n"
     ]
    },
    {
     "name": "stdout",
     "output_type": "stream",
     "text": [
      "(104, 1, 512, 512)\n",
      "fichier t = 369 sauvegardé\n",
      "(104, 5, 512, 512)\n"
     ]
    },
    {
     "name": "stderr",
     "output_type": "stream",
     "text": [
      "100%|██████████| 32/32 [00:07<00:00,  4.01it/s]\n"
     ]
    },
    {
     "name": "stdout",
     "output_type": "stream",
     "text": [
      "(104, 1, 512, 512)\n",
      "fichier t = 370 sauvegardé\n",
      "(104, 5, 512, 512)\n"
     ]
    },
    {
     "name": "stderr",
     "output_type": "stream",
     "text": [
      "100%|██████████| 32/32 [00:08<00:00,  3.85it/s]\n"
     ]
    },
    {
     "name": "stdout",
     "output_type": "stream",
     "text": [
      "(104, 1, 512, 512)\n",
      "fichier t = 371 sauvegardé\n",
      "(104, 5, 512, 512)\n"
     ]
    },
    {
     "name": "stderr",
     "output_type": "stream",
     "text": [
      "100%|██████████| 32/32 [00:07<00:00,  4.04it/s]\n"
     ]
    },
    {
     "name": "stdout",
     "output_type": "stream",
     "text": [
      "(104, 1, 512, 512)\n",
      "fichier t = 372 sauvegardé\n",
      "(104, 5, 512, 512)\n"
     ]
    },
    {
     "name": "stderr",
     "output_type": "stream",
     "text": [
      "100%|██████████| 32/32 [00:07<00:00,  4.05it/s]\n"
     ]
    },
    {
     "name": "stdout",
     "output_type": "stream",
     "text": [
      "(104, 1, 512, 512)\n",
      "fichier t = 373 sauvegardé\n",
      "(104, 5, 512, 512)\n"
     ]
    },
    {
     "name": "stderr",
     "output_type": "stream",
     "text": [
      "100%|██████████| 32/32 [00:07<00:00,  4.00it/s]\n"
     ]
    },
    {
     "name": "stdout",
     "output_type": "stream",
     "text": [
      "(104, 1, 512, 512)\n",
      "fichier t = 374 sauvegardé\n",
      "(104, 5, 512, 512)\n"
     ]
    },
    {
     "name": "stderr",
     "output_type": "stream",
     "text": [
      "100%|██████████| 32/32 [00:07<00:00,  4.03it/s]\n"
     ]
    },
    {
     "name": "stdout",
     "output_type": "stream",
     "text": [
      "(104, 1, 512, 512)\n",
      "fichier t = 375 sauvegardé\n",
      "(104, 5, 512, 512)\n"
     ]
    },
    {
     "name": "stderr",
     "output_type": "stream",
     "text": [
      "100%|██████████| 32/32 [00:08<00:00,  3.88it/s]\n"
     ]
    },
    {
     "name": "stdout",
     "output_type": "stream",
     "text": [
      "(104, 1, 512, 512)\n",
      "fichier t = 376 sauvegardé\n",
      "(104, 5, 512, 512)\n"
     ]
    },
    {
     "name": "stderr",
     "output_type": "stream",
     "text": [
      "100%|██████████| 32/32 [00:07<00:00,  4.05it/s]\n"
     ]
    },
    {
     "name": "stdout",
     "output_type": "stream",
     "text": [
      "(104, 1, 512, 512)\n",
      "fichier t = 377 sauvegardé\n",
      "(104, 5, 512, 512)\n"
     ]
    },
    {
     "name": "stderr",
     "output_type": "stream",
     "text": [
      "100%|██████████| 32/32 [00:07<00:00,  4.00it/s]\n"
     ]
    },
    {
     "name": "stdout",
     "output_type": "stream",
     "text": [
      "(104, 1, 512, 512)\n",
      "fichier t = 378 sauvegardé\n",
      "(104, 5, 512, 512)\n"
     ]
    },
    {
     "name": "stderr",
     "output_type": "stream",
     "text": [
      "100%|██████████| 32/32 [00:07<00:00,  4.04it/s]\n"
     ]
    },
    {
     "name": "stdout",
     "output_type": "stream",
     "text": [
      "(104, 1, 512, 512)\n",
      "fichier t = 379 sauvegardé\n",
      "(104, 5, 512, 512)\n"
     ]
    },
    {
     "name": "stderr",
     "output_type": "stream",
     "text": [
      "100%|██████████| 32/32 [00:07<00:00,  4.05it/s]\n"
     ]
    },
    {
     "name": "stdout",
     "output_type": "stream",
     "text": [
      "(104, 1, 512, 512)\n",
      "fichier t = 380 sauvegardé\n",
      "(104, 5, 512, 512)\n"
     ]
    },
    {
     "name": "stderr",
     "output_type": "stream",
     "text": [
      "100%|██████████| 32/32 [00:11<00:00,  2.79it/s]\n"
     ]
    },
    {
     "name": "stdout",
     "output_type": "stream",
     "text": [
      "(104, 1, 512, 512)\n",
      "fichier t = 381 sauvegardé\n",
      "(104, 5, 512, 512)\n"
     ]
    },
    {
     "name": "stderr",
     "output_type": "stream",
     "text": [
      "100%|██████████| 32/32 [00:07<00:00,  4.11it/s]\n"
     ]
    },
    {
     "name": "stdout",
     "output_type": "stream",
     "text": [
      "(104, 1, 512, 512)\n",
      "fichier t = 382 sauvegardé\n",
      "(104, 5, 512, 512)\n"
     ]
    },
    {
     "name": "stderr",
     "output_type": "stream",
     "text": [
      "100%|██████████| 32/32 [00:08<00:00,  3.90it/s]\n"
     ]
    },
    {
     "name": "stdout",
     "output_type": "stream",
     "text": [
      "(104, 1, 512, 512)\n",
      "fichier t = 383 sauvegardé\n",
      "(104, 5, 512, 512)\n"
     ]
    },
    {
     "name": "stderr",
     "output_type": "stream",
     "text": [
      "100%|██████████| 32/32 [00:07<00:00,  4.12it/s] \n"
     ]
    },
    {
     "name": "stdout",
     "output_type": "stream",
     "text": [
      "(104, 1, 512, 512)\n",
      "fichier t = 384 sauvegardé\n",
      "(104, 5, 512, 512)\n"
     ]
    },
    {
     "name": "stderr",
     "output_type": "stream",
     "text": [
      "100%|██████████| 32/32 [00:08<00:00,  3.98it/s]\n"
     ]
    },
    {
     "name": "stdout",
     "output_type": "stream",
     "text": [
      "(104, 1, 512, 512)\n",
      "fichier t = 385 sauvegardé\n",
      "(104, 5, 512, 512)\n"
     ]
    },
    {
     "name": "stderr",
     "output_type": "stream",
     "text": [
      "100%|██████████| 32/32 [00:08<00:00,  3.85it/s]\n"
     ]
    },
    {
     "name": "stdout",
     "output_type": "stream",
     "text": [
      "(104, 1, 512, 512)\n",
      "fichier t = 386 sauvegardé\n",
      "(104, 5, 512, 512)\n"
     ]
    },
    {
     "name": "stderr",
     "output_type": "stream",
     "text": [
      "100%|██████████| 32/32 [00:07<00:00,  4.03it/s]\n"
     ]
    },
    {
     "name": "stdout",
     "output_type": "stream",
     "text": [
      "(104, 1, 512, 512)\n",
      "fichier t = 387 sauvegardé\n",
      "(104, 5, 512, 512)\n"
     ]
    },
    {
     "name": "stderr",
     "output_type": "stream",
     "text": [
      "100%|██████████| 32/32 [00:08<00:00,  4.00it/s]\n"
     ]
    },
    {
     "name": "stdout",
     "output_type": "stream",
     "text": [
      "(104, 1, 512, 512)\n",
      "fichier t = 388 sauvegardé\n",
      "(104, 5, 512, 512)\n"
     ]
    },
    {
     "name": "stderr",
     "output_type": "stream",
     "text": [
      "100%|██████████| 32/32 [00:07<00:00,  4.06it/s]\n"
     ]
    },
    {
     "name": "stdout",
     "output_type": "stream",
     "text": [
      "(104, 1, 512, 512)\n",
      "fichier t = 389 sauvegardé\n",
      "(104, 5, 512, 512)\n"
     ]
    },
    {
     "name": "stderr",
     "output_type": "stream",
     "text": [
      "100%|██████████| 32/32 [00:08<00:00,  3.89it/s]\n"
     ]
    },
    {
     "name": "stdout",
     "output_type": "stream",
     "text": [
      "(104, 1, 512, 512)\n",
      "fichier t = 390 sauvegardé\n",
      "(104, 5, 512, 512)\n"
     ]
    },
    {
     "name": "stderr",
     "output_type": "stream",
     "text": [
      "100%|██████████| 32/32 [00:07<00:00,  4.06it/s]\n"
     ]
    },
    {
     "name": "stdout",
     "output_type": "stream",
     "text": [
      "(104, 1, 512, 512)\n",
      "fichier t = 391 sauvegardé\n",
      "(104, 5, 512, 512)\n"
     ]
    },
    {
     "name": "stderr",
     "output_type": "stream",
     "text": [
      "100%|██████████| 32/32 [00:08<00:00,  3.93it/s]\n"
     ]
    },
    {
     "name": "stdout",
     "output_type": "stream",
     "text": [
      "(104, 1, 512, 512)\n",
      "fichier t = 392 sauvegardé\n",
      "(104, 5, 512, 512)\n"
     ]
    },
    {
     "name": "stderr",
     "output_type": "stream",
     "text": [
      "100%|██████████| 32/32 [00:07<00:00,  4.12it/s]\n"
     ]
    },
    {
     "name": "stdout",
     "output_type": "stream",
     "text": [
      "(104, 1, 512, 512)\n",
      "fichier t = 393 sauvegardé\n",
      "(104, 5, 512, 512)\n"
     ]
    },
    {
     "name": "stderr",
     "output_type": "stream",
     "text": [
      "100%|██████████| 32/32 [00:07<00:00,  4.03it/s]\n"
     ]
    },
    {
     "name": "stdout",
     "output_type": "stream",
     "text": [
      "(104, 1, 512, 512)\n",
      "fichier t = 394 sauvegardé\n",
      "(104, 5, 512, 512)\n"
     ]
    },
    {
     "name": "stderr",
     "output_type": "stream",
     "text": [
      "100%|██████████| 32/32 [00:08<00:00,  3.85it/s]\n"
     ]
    },
    {
     "name": "stdout",
     "output_type": "stream",
     "text": [
      "(104, 1, 512, 512)\n",
      "fichier t = 395 sauvegardé\n",
      "(104, 5, 512, 512)\n"
     ]
    },
    {
     "name": "stderr",
     "output_type": "stream",
     "text": [
      "100%|██████████| 32/32 [00:07<00:00,  4.00it/s]\n"
     ]
    },
    {
     "name": "stdout",
     "output_type": "stream",
     "text": [
      "(104, 1, 512, 512)\n",
      "fichier t = 396 sauvegardé\n",
      "(104, 5, 512, 512)\n"
     ]
    },
    {
     "name": "stderr",
     "output_type": "stream",
     "text": [
      "100%|██████████| 32/32 [00:07<00:00,  4.01it/s]\n"
     ]
    },
    {
     "name": "stdout",
     "output_type": "stream",
     "text": [
      "(104, 1, 512, 512)\n",
      "fichier t = 397 sauvegardé\n",
      "(104, 5, 512, 512)\n"
     ]
    },
    {
     "name": "stderr",
     "output_type": "stream",
     "text": [
      "100%|██████████| 32/32 [00:07<00:00,  4.10it/s]\n"
     ]
    },
    {
     "name": "stdout",
     "output_type": "stream",
     "text": [
      "(104, 1, 512, 512)\n",
      "fichier t = 398 sauvegardé\n",
      "(104, 5, 512, 512)\n"
     ]
    },
    {
     "name": "stderr",
     "output_type": "stream",
     "text": [
      "100%|██████████| 32/32 [00:08<00:00,  3.88it/s]\n"
     ]
    },
    {
     "name": "stdout",
     "output_type": "stream",
     "text": [
      "(104, 1, 512, 512)\n",
      "fichier t = 399 sauvegardé\n"
     ]
    }
   ],
   "source": [
    "nom_model =  base_dir + \"/modele_divisions\" + str(7)\n",
    "\n",
    "#mo = CARE(None, nom_model, base_dir).load_weights('weights_last.h5')\n",
    "save_predictions(test_data_dir, output_path, nom_model, date, scale,\n",
    "                 tstart=0,tstop=400,tstep=1,ch=9,  n_tiles=n_tiles, load='best')"
   ]
  },
  {
   "cell_type": "code",
   "execution_count": null,
   "id": "7a275424",
   "metadata": {},
   "outputs": [],
   "source": [
    "A = np.random.random(size=(100,1,15,13))\n",
    "print(A[:,0,:,:].shape)"
   ]
  },
  {
   "cell_type": "code",
   "execution_count": null,
   "id": "c2f17e53",
   "metadata": {
    "scrolled": true
   },
   "outputs": [],
   "source": [
    "# # erreurs, diff_temps = erreur_test(nom_model, test_data_dir, test_labels_dir, date, ch)\n",
    "# # liste_t = liste_temps(date, test_labels_dir, ch)\n",
    "# # plt.plot(liste_t, erreurs, 'x--', color='blue', label='reconstruction')\n",
    "# # plt.plot(liste_t, diff_temps, 'x--', color='red', label=\"Pas de temps adjacents\" )\n",
    "# # plt.xlabel('pas de temps')\n",
    "# # plt.ylabel('RMSE')\n",
    "# # plt.grid()\n",
    "# # plt.legend()\n",
    "# # plt.show()\n",
    "\n",
    "# history_path = base_dir + \"/Interpolation/trainHistoryDict\" +str(num_modele)+\".txt\"\n",
    "# hist = np.genfromtxt(history_path, skip_header = 1)\n",
    "\n",
    "# epoch = hist[:,0]\n",
    "# loss = hist[:,1]\n",
    "# mse = hist[:,2]\n",
    "# mae = hist[:,3]\n",
    "# val_loss = hist[:,4]\n",
    "# val_mse = hist[:,5]\n",
    "# val_mae = hist[:,-1]\n",
    "\n",
    "# plt.plot(epoch, mae, label='mae')\n",
    "# plt.plot(epoch, val_mae, label='val_mae')\n",
    "# plt.grid()\n",
    "# plt.legend()\n",
    "# plt.show()\n",
    "\n",
    "# plt.plot(epoch, mse, label='mse')\n",
    "# plt.plot(epoch, val_mse, label='val_mse')\n",
    "# plt.grid()\n",
    "# plt.legend()\n",
    "# plt.show()\n",
    "\n",
    "# plt.plot(epoch, loss, label=\"loss\")\n",
    "# plt.plot(epoch, val_loss, label='val_loss')\n",
    "# plt.grid()\n",
    "# plt.legend()\n",
    "# plt.show()"
   ]
  },
  {
   "cell_type": "code",
   "execution_count": null,
   "id": "6e521915",
   "metadata": {},
   "outputs": [],
   "source": [
    "##changement de canal ch\n",
    "#dir_pred = \"C:/Users/bioAMD/Desktop/Nathan/TIFFdata070418/stock_Demistep/pas_temps\"\n",
    "#for file in os.listdir(dir_pred) :\n",
    "#    if file[-12:-4] == \"ch00diff\" :\n",
    "#        newname = file[:-12] + \"ch06.tif\"\n",
    "#        if os.path.exists(newname) :\n",
    "#            os.remove(newname)\n",
    "#        os.rename(dir_pred +\"/\" + file, dir_pred + \"/\" + newname)\n",
    "#    elif file[-8:-4] == \"ch00\" :\n",
    "#        newname = file[:-8] + \"ch05.tif\"\n",
    "#        if os.path.exists(newname) :\n",
    "#            os.remove(newname)\n",
    "#        os.rename(dir_pred +\"/\" + file, dir_pred + \"/\" + newname)"
   ]
  },
  {
   "cell_type": "code",
   "execution_count": null,
   "id": "e16a1006",
   "metadata": {},
   "outputs": [],
   "source": [
    "# # comparaison modèles \n",
    "# model5 = base_dir + \"/modele_interpolation\" + str(5)\n",
    "# model4 = base_dir + \"/modele_interpolation\" + str(4)\n",
    "\n",
    "# erreurs4, diff_temps4 = erreur_test(model4, test_data_dir, test_labels_dir, date, ch)\n",
    "# erreurs5, diff_temps5 = erreur_test(model5, test_data_dir, test_labels_dir, date, ch)\n",
    "\n",
    "# epoch = np.arange(1, len(erreurs2)+1, step=1)\n",
    "\n",
    "# plt.plot(epoch, erreurs2,  \"x--\",label=\"Modèle 5 (199 images)\")\n",
    "# plt.plot(epoch, erreurs4,  \"x--\",label='Modèle 4 (158 images)')\n",
    "# plt.legend()\n",
    "# plt.grid()\n",
    "# plt.show()"
   ]
  },
  {
   "cell_type": "code",
   "execution_count": null,
   "id": "95a336fe",
   "metadata": {
    "scrolled": false
   },
   "outputs": [],
   "source": [
    "# dir_samples_Demistep = \"C:/Users/bioAMD/Desktop/Nathan/Interpolation/dataMix/dataDemistep/\"\n",
    "# output_predDemistep = \"C:/Users/bioAMD/Desktop/Nathan/TIFFdata070418/stock_Demistep\"\n",
    "# ch = 8\n",
    "\n",
    "# l_temps = liste_temps(date, output_predDemistep)\n",
    "# filen= os.listdir(output_predDemistep)\n",
    "# for files in filen :\n",
    "#     if files[:len(date)+2] != date+\"_t\" or files[-8:] != \"_ch\"+str(ch).zfill(2)+\".tif\" :\n",
    "#         filen.remove(files)\n",
    "# print(filen[-1])\n",
    "\n",
    "# for t in range(len(l_temps)) :\n",
    "#     if l_temps[t] % 2 == 1 :\n",
    "#         shutil.move(output_predDemistep + \"/\" + filen[t], dir_samples_Demistep+ \"/\" + filen[t]  )\n",
    "\n",
    "\n",
    "save_predictions(dir_samples_Demistep, output_predDemistep, nom_model, date, scale, tstart=239, tstop=1092, tstep=1)"
   ]
  },
  {
   "cell_type": "code",
   "execution_count": null,
   "id": "e138983e",
   "metadata": {},
   "outputs": [],
   "source": [
    "#model = chargement_modele(nom_model, base_dir)\n",
    "\n",
    "date= \"070418a\"\n",
    "scaling = (1.34, 1.34, 1.34)\n",
    "dir_input = \"C:/Users/bioAMD/Desktop/Nathan/TIFFdata070418/frames_perdues\"\n",
    "dir_output = \"C:/Users/bioAMD/Desktop/Nathan/TIFFdata070418/frames_perdues/pred_perdues\""
   ]
  },
  {
   "cell_type": "code",
   "execution_count": null,
   "id": "5520f1de",
   "metadata": {},
   "outputs": [],
   "source": [
    "t = liste_temps(date, dir_output, ch=5)\n",
    "# axes = \"ZCYX\"\n",
    "\n",
    "# i = 0\n",
    "# for file in os.listdir(dir_output) :\n",
    "    \n",
    "#     if file[:len(date)+2] != date+\"_t\" :\n",
    "#         continue\n",
    "    \n",
    "#     # on sauvegarde les données à prédire\n",
    "#     if t[i] % 2 == 1 :\n",
    "        \n"
   ]
  },
  {
   "cell_type": "code",
   "execution_count": null,
   "id": "a65d1173",
   "metadata": {},
   "outputs": [],
   "source": [
    "save_predictions(dir_input, dir_output,nom_model, date, scale, tstop=1087, tstart=241,tstep=2, ch=5)"
   ]
  },
  {
   "cell_type": "code",
   "execution_count": null,
   "id": "823f4ea3",
   "metadata": {},
   "outputs": [],
   "source": [
    "tif_noyaux = \"C:/Users/bioAMD/Desktop/Nathan/TIFFdata070418/stock_mix/tif_noyaux\"\n",
    "tif_membranes = \"C:/Users/bioAMD/Desktop/Nathan/TIFFdata070418/stock_mix/tif_membranes\"\n",
    "\n",
    "def range_fichiers(date, dir_input ,dir_train) :\n",
    "    \"\"\" renomme les fichiers et les range dans les jeux d'entrainement et de test\n",
    "    samples: date + _t 123 456 _ch00.tif \n",
    "    labels : date + _t 123 456 _ch00.tif \"\"\"\n",
    "    \n",
    "    for filename in os.listdir(dir_input) :\n",
    "        \n",
    "        if len(filename) < 21 or filename[:len(date)+2] != date+\"_t\" :\n",
    "            continue\n",
    "    \n",
    "        newname = filename\n",
    "    \n",
    "        if filename[-6:] == \"4D.tif\" :\n",
    "            newname = filename[:-6] + \".tif\"\n",
    "        \n",
    "        # données d'entrée du jeu d'entrainement\n",
    "        if len(filename) == ( len(date) + len(\"_t\") + 3 + len(\"_ch00.tif\") ) + 3 :\n",
    "            \n",
    "            nbre = ( int(filename[len(date) + 2 : len(date) + 5]) + int(filename[len(date)+5: len(date)+8]) ) // 2 \n",
    "            newname = newname[:len(date)+2] + str(nbre).zfill(3) + newname[len(date)+8:]\n",
    "                        \n",
    "            if os.path.exists(dir_train + \"/train_samples/\" + newname) :\n",
    "                os.remove(dir_train + \"/train_samples/\" + newname)\n",
    "                \n",
    "            shutil.move(dir_input+\"/\"+filename, dir_train+\"/train_samples/\"+filename)\n",
    "            os.rename(dir_train+\"/train_samples/\"+filename, dir_train+\"/train_samples/\"+newname)\n",
    "        \n",
    "        # étiquettes du jeu d'entrainement\n",
    "        else :\n",
    "            if os.path.exists(dir_train + \"/train_labels/\" + newname) :\n",
    "                os.remove(dir_train + \"/train_labels/\" + newname)\n",
    "                \n",
    "            shutil.move(dir_input+\"/\"+filename, dir_train+\"/train_labels/\"+filename)\n",
    "            os.rename(dir_train+\"/train_samples/\"+filename, dir_train+\"/train_labels/\"+newname)\n",
    "    \n",
    "    return None"
   ]
  },
  {
   "cell_type": "code",
   "execution_count": null,
   "id": "fdd0d80f",
   "metadata": {},
   "outputs": [],
   "source": [
    "ch = 8\n",
    "date = \"070418a\"\n",
    "modele = chargement_modele(nom_model, base_dir)\n",
    "axes = \"ZCYX\"\n",
    "scale = tuple(np.float32([1.34]*3))\n",
    "\n",
    "# on fusionne les images des noyaux avec celles des membranes (le réseau prend 4 canaux en entrée)\n",
    "# path_noyaux = \"C:/Users/bioAMD/Desktop/Nathan/Interpolation/dataMix/dataDemistep/demistep_noyaux\"\n",
    "# path_membranes = \"C:/Users/bioAMD/Desktop/Nathan/Interpolation/dataMix/dataDemistep/demistep_membranes\"\n",
    "\n",
    "# liste_noyaux = os.listdir(path_noyaux)\n",
    "# liste_membranes = os.listdir(path_membranes)\n",
    "\n",
    "# path_output = \"C:/Users/bioAMD/Desktop/Nathan/Interpolation/dataMix/dataDemistep/demistep_all\"\n",
    "# i = 0\n",
    "# for im_noyau, im_membrane in zip(liste_noyaux, liste_membranes) :\n",
    "    \n",
    "#     if i < 508 :\n",
    "#         i += 1\n",
    "#         continue \n",
    "#     # compteurs \n",
    "#     snoy, smem = 0,0\n",
    "#     while im_noyau[len(date)+2+snoy] != \"_\" :\n",
    "#         snoy += 1\n",
    "#     while im_membrane[len(date)+2+smem] != \"_\" :\n",
    "#         smem += 1\n",
    "#     if im_noyau[len(date)+2:len(date)+2+snoy] != im_membrane[len(date)+2:len(date)+2+smem] :\n",
    "#         print(\"erreur: t_noyaux != t_membranes\")\n",
    "#         continue \n",
    "        \n",
    "#     print(im_noyau, \"/\", im_membrane)\n",
    "    \n",
    "#     t = im_noyau[len(date)+2:len(date)+2+snoy]\n",
    "    \n",
    "#     # données pour la prédiction des noyau et membrane\n",
    "#     xnoy = imread(path_noyaux+\"/\"+im_noyau)\n",
    "#     xmem = imread(path_membranes+\"/\"+im_membrane)\n",
    "    \n",
    "#     # donnée en sortie\n",
    "#     X = np.zeros(shape= xnoy[:,0,0,0].shape +tuple([4]) + xnoy[0,0,:,:].shape)\n",
    "\n",
    "#     # 2 premiers canaux : noyaux. Deux derniers : membranes\n",
    "#     X[:,0:2,:,:] = xnoy\n",
    "#     X[:,2:4,:,:] = xmem\n",
    "    \n",
    "#     # on passe les images dans le réseau\n",
    "#     Y_pred = modele.predict(X, axes, n_tiles=(1,1,2,2))\n",
    "#     print(t+\" :\",Y_pred.shape)\n",
    "    \n",
    "    \n",
    "#     # fichier de suavegarde\n",
    "#     newfile = path_output + \"/\" + date+\"_t\"+t+\"_ch\" + str(ch).zfill(2) + \".tif\"\n",
    "#     print(\"nom save\", newfile)\n",
    "    \n",
    "#     save_imagej_tiff4d(newfile, Y_pred, scale, units= \"um\")\n",
    "#     i += 1"
   ]
  },
  {
   "cell_type": "code",
   "execution_count": null,
   "id": "366cf89d",
   "metadata": {},
   "outputs": [],
   "source": [
    "def mae(a1, a2) :\n",
    "    return np.mean(np.abs(a1-a2))\n",
    "\n"
   ]
  }
 ],
 "metadata": {
  "kernelspec": {
   "display_name": "Python 3 (ipykernel)",
   "language": "python",
   "name": "python3"
  },
  "language_info": {
   "codemirror_mode": {
    "name": "ipython",
    "version": 3
   },
   "file_extension": ".py",
   "mimetype": "text/x-python",
   "name": "python",
   "nbconvert_exporter": "python",
   "pygments_lexer": "ipython3",
   "version": "3.9.16"
  }
 },
 "nbformat": 4,
 "nbformat_minor": 5
}
